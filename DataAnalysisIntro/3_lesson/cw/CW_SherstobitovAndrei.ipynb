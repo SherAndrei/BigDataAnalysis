{
 "cells": [
  {
   "cell_type": "code",
   "execution_count": 1,
   "id": "third-handy",
   "metadata": {},
   "outputs": [
    {
     "data": {
      "text/html": [
       "<div>\n",
       "<style scoped>\n",
       "    .dataframe tbody tr th:only-of-type {\n",
       "        vertical-align: middle;\n",
       "    }\n",
       "\n",
       "    .dataframe tbody tr th {\n",
       "        vertical-align: top;\n",
       "    }\n",
       "\n",
       "    .dataframe thead th {\n",
       "        text-align: right;\n",
       "    }\n",
       "</style>\n",
       "<table border=\"1\" class=\"dataframe\">\n",
       "  <thead>\n",
       "    <tr style=\"text-align: right;\">\n",
       "      <th></th>\n",
       "      <th>date</th>\n",
       "      <th>vendor_id</th>\n",
       "      <th>chain_id</th>\n",
       "      <th>city_id</th>\n",
       "      <th>spec</th>\n",
       "      <th>successful_orders</th>\n",
       "      <th>fail_orders</th>\n",
       "    </tr>\n",
       "  </thead>\n",
       "  <tbody>\n",
       "    <tr>\n",
       "      <th>0</th>\n",
       "      <td>2019-07-02</td>\n",
       "      <td>40065</td>\n",
       "      <td>7501</td>\n",
       "      <td>23</td>\n",
       "      <td>Суши</td>\n",
       "      <td>54.0</td>\n",
       "      <td>1.0</td>\n",
       "    </tr>\n",
       "    <tr>\n",
       "      <th>1</th>\n",
       "      <td>2019-08-27</td>\n",
       "      <td>48058</td>\n",
       "      <td>33226</td>\n",
       "      <td>23</td>\n",
       "      <td>Шаурма</td>\n",
       "      <td>0.0</td>\n",
       "      <td>0.0</td>\n",
       "    </tr>\n",
       "    <tr>\n",
       "      <th>2</th>\n",
       "      <td>2019-09-25</td>\n",
       "      <td>35430</td>\n",
       "      <td>26220</td>\n",
       "      <td>25</td>\n",
       "      <td>Пицца</td>\n",
       "      <td>2.0</td>\n",
       "      <td>0.0</td>\n",
       "    </tr>\n",
       "    <tr>\n",
       "      <th>3</th>\n",
       "      <td>2019-09-21</td>\n",
       "      <td>56553</td>\n",
       "      <td>38601</td>\n",
       "      <td>23</td>\n",
       "      <td>Шашлыки</td>\n",
       "      <td>1.0</td>\n",
       "      <td>0.0</td>\n",
       "    </tr>\n",
       "    <tr>\n",
       "      <th>4</th>\n",
       "      <td>2019-09-21</td>\n",
       "      <td>43919</td>\n",
       "      <td>30984</td>\n",
       "      <td>25</td>\n",
       "      <td>Суши</td>\n",
       "      <td>6.0</td>\n",
       "      <td>0.0</td>\n",
       "    </tr>\n",
       "    <tr>\n",
       "      <th>5</th>\n",
       "      <td>2019-06-13</td>\n",
       "      <td>53006</td>\n",
       "      <td>36214</td>\n",
       "      <td>26</td>\n",
       "      <td>Грузинская</td>\n",
       "      <td>2.0</td>\n",
       "      <td>0.0</td>\n",
       "    </tr>\n",
       "    <tr>\n",
       "      <th>6</th>\n",
       "      <td>2019-07-07</td>\n",
       "      <td>28982</td>\n",
       "      <td>20651</td>\n",
       "      <td>24</td>\n",
       "      <td>Суши</td>\n",
       "      <td>0.0</td>\n",
       "      <td>1.0</td>\n",
       "    </tr>\n",
       "    <tr>\n",
       "      <th>7</th>\n",
       "      <td>2019-08-01</td>\n",
       "      <td>45472</td>\n",
       "      <td>30409</td>\n",
       "      <td>24</td>\n",
       "      <td>Бургеры</td>\n",
       "      <td>37.0</td>\n",
       "      <td>4.0</td>\n",
       "    </tr>\n",
       "    <tr>\n",
       "      <th>8</th>\n",
       "      <td>2019-07-03</td>\n",
       "      <td>65358</td>\n",
       "      <td>43034</td>\n",
       "      <td>23</td>\n",
       "      <td>Русская</td>\n",
       "      <td>1.0</td>\n",
       "      <td>0.0</td>\n",
       "    </tr>\n",
       "    <tr>\n",
       "      <th>9</th>\n",
       "      <td>2019-09-19</td>\n",
       "      <td>60878</td>\n",
       "      <td>41231</td>\n",
       "      <td>23</td>\n",
       "      <td>Русская</td>\n",
       "      <td>4.0</td>\n",
       "      <td>0.0</td>\n",
       "    </tr>\n",
       "  </tbody>\n",
       "</table>\n",
       "</div>"
      ],
      "text/plain": [
       "         date  vendor_id  chain_id  city_id        spec  successful_orders  \\\n",
       "0  2019-07-02      40065      7501       23        Суши               54.0   \n",
       "1  2019-08-27      48058     33226       23      Шаурма                0.0   \n",
       "2  2019-09-25      35430     26220       25       Пицца                2.0   \n",
       "3  2019-09-21      56553     38601       23     Шашлыки                1.0   \n",
       "4  2019-09-21      43919     30984       25        Суши                6.0   \n",
       "5  2019-06-13      53006     36214       26  Грузинская                2.0   \n",
       "6  2019-07-07      28982     20651       24        Суши                0.0   \n",
       "7  2019-08-01      45472     30409       24     Бургеры               37.0   \n",
       "8  2019-07-03      65358     43034       23     Русская                1.0   \n",
       "9  2019-09-19      60878     41231       23     Русская                4.0   \n",
       "\n",
       "   fail_orders  \n",
       "0          1.0  \n",
       "1          0.0  \n",
       "2          0.0  \n",
       "3          0.0  \n",
       "4          0.0  \n",
       "5          0.0  \n",
       "6          1.0  \n",
       "7          4.0  \n",
       "8          0.0  \n",
       "9          0.0  "
      ]
     },
     "execution_count": 1,
     "metadata": {},
     "output_type": "execute_result"
    }
   ],
   "source": [
    "import pandas as pd\n",
    "data = pd.read_csv('orders.csv', sep = ',')\n",
    "data.head(10)"
   ]
  },
  {
   "cell_type": "code",
   "execution_count": 2,
   "id": "homeless-smooth",
   "metadata": {},
   "outputs": [
    {
     "name": "stdout",
     "output_type": "stream",
     "text": [
      "<class 'pandas.core.frame.DataFrame'>\n",
      "RangeIndex: 96118 entries, 0 to 96117\n",
      "Data columns (total 7 columns):\n",
      " #   Column             Non-Null Count  Dtype  \n",
      "---  ------             --------------  -----  \n",
      " 0   date               96118 non-null  object \n",
      " 1   vendor_id          96118 non-null  int64  \n",
      " 2   chain_id           96118 non-null  int64  \n",
      " 3   city_id            96118 non-null  int64  \n",
      " 4   spec               95733 non-null  object \n",
      " 5   successful_orders  96118 non-null  float64\n",
      " 6   fail_orders        96118 non-null  float64\n",
      "dtypes: float64(2), int64(3), object(2)\n",
      "memory usage: 5.1+ MB\n",
      "None\n"
     ]
    }
   ],
   "source": [
    "print(data.info())"
   ]
  },
  {
   "cell_type": "code",
   "execution_count": 3,
   "id": "wicked-minutes",
   "metadata": {},
   "outputs": [
    {
     "name": "stdout",
     "output_type": "stream",
     "text": [
      "672826\n",
      "672826\n"
     ]
    }
   ],
   "source": [
    "print(data.shape[0]*data.shape[1])\n",
    "print(96118*7)"
   ]
  },
  {
   "cell_type": "code",
   "execution_count": 4,
   "id": "afraid-insider",
   "metadata": {},
   "outputs": [
    {
     "data": {
      "text/plain": [
       "[('date', 121),\n",
       " ('vendor_id', 1537),\n",
       " ('chain_id', 1063),\n",
       " ('city_id', 4),\n",
       " ('spec', 35),\n",
       " ('successful_orders', 193),\n",
       " ('fail_orders', 42)]"
      ]
     },
     "execution_count": 4,
     "metadata": {},
     "output_type": "execute_result"
    }
   ],
   "source": [
    "[(col, data[col].nunique()) for col in data.columns]"
   ]
  },
  {
   "cell_type": "code",
   "execution_count": 6,
   "id": "signal-earth",
   "metadata": {},
   "outputs": [
    {
     "name": "stdout",
     "output_type": "stream",
     "text": [
      "[23 23 23 ... 26 26 26]\n"
     ]
    }
   ],
   "source": [
    "import numpy as np\n",
    "print(np.sort(data['city_id']))"
   ]
  },
  {
   "cell_type": "code",
   "execution_count": 7,
   "id": "elementary-regard",
   "metadata": {},
   "outputs": [
    {
     "data": {
      "text/plain": [
       "9"
      ]
     },
     "execution_count": 7,
     "metadata": {},
     "output_type": "execute_result"
    }
   ],
   "source": [
    "round((np.sum(data['successful_orders']))/data.shape[0])"
   ]
  },
  {
   "cell_type": "code",
   "execution_count": 8,
   "id": "voluntary-clinic",
   "metadata": {},
   "outputs": [
    {
     "name": "stdout",
     "output_type": "stream",
     "text": [
      "18\n"
     ]
    }
   ],
   "source": [
    "ff = dict()\n",
    "s =0\n",
    "for t in data.values:\n",
    "    if (t[4] == 'Рыба') and t[1] not in ff:\n",
    "        ff[t[1]]=1\n",
    "        s+=1\n",
    "print(s)"
   ]
  },
  {
   "cell_type": "code",
   "execution_count": 9,
   "id": "frequent-caribbean",
   "metadata": {},
   "outputs": [
    {
     "data": {
      "text/plain": [
       "555"
      ]
     },
     "execution_count": 9,
     "metadata": {},
     "output_type": "execute_result"
    }
   ],
   "source": [
    "round((np.sum(data['successful_orders']))/1537)"
   ]
  },
  {
   "cell_type": "code",
   "execution_count": 10,
   "id": "turned-jamaica",
   "metadata": {},
   "outputs": [
    {
     "name": "stdout",
     "output_type": "stream",
     "text": [
      "45\n"
     ]
    }
   ],
   "source": [
    "rt = 0\n",
    "djdf = data[data.vendor_id == 40065][['successful_orders']]\n",
    "for t in djdf.values:\n",
    "    if t[0] < 20:\n",
    "        rt+=1\n",
    "print(rt)"
   ]
  },
  {
   "cell_type": "code",
   "execution_count": 13,
   "id": "usual-laser",
   "metadata": {},
   "outputs": [
    {
     "name": "stdout",
     "output_type": "stream",
     "text": [
      "{23: 277744.0, 25: 228518.0, 26: 232039.0, 24: 114977.0}\n"
     ]
    }
   ],
   "source": [
    "hffh= dict()\n",
    "for t in data.values:\n",
    "    if t[3] in hffh:\n",
    "        hffh[t[3]]+=t[5]\n",
    "    else:\n",
    "        hffh[t[3]]=t[5]\n",
    "print(hffh)"
   ]
  },
  {
   "cell_type": "code",
   "execution_count": 14,
   "id": "foreign-samba",
   "metadata": {},
   "outputs": [
    {
     "name": "stdout",
     "output_type": "stream",
     "text": [
      "[114977.0, 228518.0, 232039.0, 277744.0]\n"
     ]
    }
   ],
   "source": [
    "adj = (277744.0, 228518.0,232039.0,114977.0 )\n",
    "print(sorted(adj))"
   ]
  },
  {
   "cell_type": "code",
   "execution_count": 15,
   "id": "automatic-nudist",
   "metadata": {},
   "outputs": [
    {
     "name": "stdout",
     "output_type": "stream",
     "text": [
      "Вегетарианское меню\n",
      "0.8275862068965517\n"
     ]
    }
   ],
   "source": [
    "a1= dict()\n",
    "a2=dict()\n",
    "for t in data.values:\n",
    "    if t[4] in a1:\n",
    "        a1[t[4]]+=(t[5]+t[6])\n",
    "        a2[t[4]]+=t[6]\n",
    "    else:\n",
    "        a1[t[4]]=(t[5]+t[6])\n",
    "        a2[t[4]]=t[6]\n",
    "s=dict()\n",
    "for t in a1:\n",
    "    if a1[t] != 0:\n",
    "        s[t]=a2[t]/a1[t]\n",
    "max_= 0\n",
    "ans = 'd'\n",
    "\n",
    "for t in s:\n",
    "    if max_ < s[t]:\n",
    "        max_ = s[t]\n",
    "        ans = t\n",
    "        \n",
    "print(ans)\n",
    "print(s[ans])"
   ]
  },
  {
   "cell_type": "code",
   "execution_count": 16,
   "id": "wireless-oxide",
   "metadata": {},
   "outputs": [
    {
     "name": "stdout",
     "output_type": "stream",
     "text": [
      "29925 1394.0\n"
     ]
    }
   ],
   "source": [
    "def func(temp):\n",
    "    if temp[:7] == \"2019-07\":\n",
    "        return 1\n",
    "    if temp[:7] == '2019-08':\n",
    "        return 2\n",
    "    return 0\n",
    "b1= dict()\n",
    "b2=dict()\n",
    "for t in data.values:\n",
    "    if func(t[0]) == 1:\n",
    "        if t[2] in b1:\n",
    "            b1[t[2]]+=t[5]\n",
    "        else:\n",
    "            b1[t[2]]=t[5]\n",
    "    if func(t[0]) == 2:\n",
    "        if t[2] in b2:\n",
    "            b2[t[2]]+=t[5]\n",
    "        else:\n",
    "            b2[t[2]]=t[5]\n",
    "max___=0\n",
    "id=0\n",
    "for t in b1:\n",
    "    if t in b2:\n",
    "        if np.abs(b1[t]-b2[t]) > max___:\n",
    "            max___ = np.abs(b1[t]-b2[t])\n",
    "            id_ = t\n",
    "print(id_,max___)"
   ]
  },
  {
   "cell_type": "code",
   "execution_count": null,
   "id": "controlled-peoples",
   "metadata": {},
   "outputs": [],
   "source": []
  }
 ],
 "metadata": {
  "kernelspec": {
   "display_name": "Python 3",
   "language": "python",
   "name": "python3"
  },
  "language_info": {
   "codemirror_mode": {
    "name": "ipython",
    "version": 3
   },
   "file_extension": ".py",
   "mimetype": "text/x-python",
   "name": "python",
   "nbconvert_exporter": "python",
   "pygments_lexer": "ipython3",
   "version": "3.7.10"
  }
 },
 "nbformat": 4,
 "nbformat_minor": 5
}

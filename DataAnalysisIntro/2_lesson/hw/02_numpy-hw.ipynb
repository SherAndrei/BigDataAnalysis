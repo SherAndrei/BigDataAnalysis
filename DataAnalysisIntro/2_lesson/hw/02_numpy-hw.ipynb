{
 "cells": [
  {
   "cell_type": "code",
   "execution_count": 1,
   "metadata": {},
   "outputs": [],
   "source": [
    "import numpy as np\n",
    "\n",
    "import matplotlib.pyplot as plt\n",
    "\n",
    "%matplotlib inline"
   ]
  },
  {
   "cell_type": "markdown",
   "metadata": {},
   "source": [
    "## Размерность массивов (1 балл)\n",
    "\n",
    "Во всех заданиях этого блока **запрещается** руками модифицировать любые атрибуты массива."
   ]
  },
  {
   "cell_type": "code",
   "execution_count": 2,
   "metadata": {},
   "outputs": [
    {
     "data": {
      "text/plain": [
       "(6,)"
      ]
     },
     "execution_count": 2,
     "metadata": {},
     "output_type": "execute_result"
    }
   ],
   "source": [
    "a = np.ones(6, dtype=int)\n",
    "a\n",
    "a.shape"
   ]
  },
  {
   "cell_type": "markdown",
   "metadata": {},
   "source": [
    "* Превратите массив $a$ в вектор-строку `a.shape == (1, 6)`. Тип получившегося объекта по-прежнему должен быть `np.array`. **(0.25 балла)**\n",
    "\n",
    "    **Запрещается** использовать `reshape`."
   ]
  },
  {
   "cell_type": "code",
   "execution_count": 3,
   "metadata": {},
   "outputs": [],
   "source": [
    "b = a[np.newaxis, :]\n",
    "assert b.shape == (1, 6)\n",
    "assert type(a) == type(b)"
   ]
  },
  {
   "cell_type": "markdown",
   "metadata": {},
   "source": [
    "* Превратите массив $a$ в вектор-столбец `a.shape == (6, 1)`. Тип получившегося объекта по-прежнему должен быть `np.array`. **(0.25 балла)**\n",
    "\n",
    "    **Запрещается** использовать `reshape`. Воспользуйтесь способом, который вы **НЕ** использовали в предыдущем пункте. Если в документации библиотеки он описан как эквивалентный, то этот способ подойдет."
   ]
  },
  {
   "cell_type": "code",
   "execution_count": 4,
   "metadata": {},
   "outputs": [],
   "source": [
    "c = np.expand_dims(a, axis=1)\n",
    "assert c.shape == (6, 1)\n",
    "assert type(a) == type(c)"
   ]
  },
  {
   "cell_type": "markdown",
   "metadata": {},
   "source": [
    "* Превратите массив $a$ в массив $2 \\times 3$. **(0.25 балла)**"
   ]
  },
  {
   "cell_type": "code",
   "execution_count": 5,
   "metadata": {},
   "outputs": [
    {
     "data": {
      "text/plain": [
       "array([[1, 1, 1],\n",
       "       [1, 1, 1]])"
      ]
     },
     "execution_count": 5,
     "metadata": {},
     "output_type": "execute_result"
    }
   ],
   "source": [
    "d = np.reshape(a, newshape=(2, 3))\n",
    "d"
   ]
  },
  {
   "cell_type": "code",
   "execution_count": 6,
   "metadata": {},
   "outputs": [
    {
     "data": {
      "text/plain": [
       "array([1., 1., 1., 1., 1., 1., 1., 1., 1., 1., 1., 1., 1., 1., 1., 1., 1.,\n",
       "       1., 1., 1., 1., 1., 1., 1., 1., 1., 1., 1., 1., 1., 1., 1., 1., 1.,\n",
       "       1., 1., 1., 1., 1., 1., 1., 1., 1., 1., 1., 1., 1., 1., 1., 1.])"
      ]
     },
     "execution_count": 6,
     "metadata": {},
     "output_type": "execute_result"
    }
   ],
   "source": [
    "np.random.seed(7892)\n",
    "\n",
    "cols = np.random.randint(low=10, high=20, size=1)\n",
    "rows = 5\n",
    "\n",
    "a = np.ones(cols * rows)\n",
    "a"
   ]
  },
  {
   "cell_type": "markdown",
   "metadata": {},
   "source": [
    "* Превратите массив $a$ в массив с 5 строками. **(0.25 балла)**\n",
    "\n",
    "    **Запрещается** использовать информацию о размере массива $a$.\n",
    "\n",
    "    **Разрешается** использовать переменную rows или число 5."
   ]
  },
  {
   "cell_type": "code",
   "execution_count": 7,
   "metadata": {},
   "outputs": [
    {
     "data": {
      "text/plain": [
       "array([[1., 1., 1., 1., 1., 1., 1., 1., 1., 1.],\n",
       "       [1., 1., 1., 1., 1., 1., 1., 1., 1., 1.],\n",
       "       [1., 1., 1., 1., 1., 1., 1., 1., 1., 1.],\n",
       "       [1., 1., 1., 1., 1., 1., 1., 1., 1., 1.],\n",
       "       [1., 1., 1., 1., 1., 1., 1., 1., 1., 1.]])"
      ]
     },
     "execution_count": 7,
     "metadata": {},
     "output_type": "execute_result"
    }
   ],
   "source": [
    "q = np.reshape(a, newshape=(rows, -1))\n",
    "q"
   ]
  },
  {
   "cell_type": "markdown",
   "metadata": {},
   "source": [
    "## Индексация (3.75 балла)"
   ]
  },
  {
   "cell_type": "code",
   "execution_count": 8,
   "metadata": {},
   "outputs": [
    {
     "data": {
      "text/plain": [
       "array([[ 0,  1,  2,  3,  4,  5],\n",
       "       [ 6,  7,  8,  9, 10, 11],\n",
       "       [12, 13, 14, 15, 16, 17],\n",
       "       [18, 19, 20, 21, 22, 23],\n",
       "       [24, 25, 26, 27, 28, 29],\n",
       "       [30, 31, 32, 33, 34, 35]])"
      ]
     },
     "execution_count": 8,
     "metadata": {},
     "output_type": "execute_result"
    }
   ],
   "source": [
    "A = np.arange(36).reshape(-1, 6)\n",
    "A"
   ]
  },
  {
   "cell_type": "markdown",
   "metadata": {},
   "source": [
    "* Получите следующие подмассивы. **(по 0.25 балла за каждое задание; итого 1.25 балла за задание)**\n",
    "\n",
    "    В первых 3-х индексациях **запрещается** использовать сложную индексацию.\n",
    "\n",
    "    Поместите результат в перменную `A_slice`."
   ]
  },
  {
   "cell_type": "code",
   "execution_count": 9,
   "metadata": {},
   "outputs": [],
   "source": [
    "# put your code here\n",
    "A_slice = A[2:5,2:5]\n",
    "\n",
    "A_slice_res = np.array([[14, 15, 16],\n",
    "                        [20, 21, 22],\n",
    "                        [26, 27, 28]])\n",
    "\n",
    "assert (A_slice == A_slice_res).all()"
   ]
  },
  {
   "cell_type": "code",
   "execution_count": 10,
   "metadata": {},
   "outputs": [],
   "source": [
    "# put your code here\n",
    "A_slice = A[3:,::2]\n",
    "\n",
    "A_slice_res = np.array([[18, 20, 22],\n",
    "                        [24, 26, 28],\n",
    "                        [30, 32, 34]])\n",
    "\n",
    "assert (A_slice == A_slice_res).all()"
   ]
  },
  {
   "cell_type": "code",
   "execution_count": 11,
   "metadata": {},
   "outputs": [],
   "source": [
    "# put your code here\n",
    "A_slice = A[-1:1:-1, 4:1:-1]\n",
    "\n",
    "A_slice_res = np.array([[34, 33, 32],\n",
    "                        [28, 27, 26],\n",
    "                        [22, 21, 20],\n",
    "                        [16, 15, 14]])\n",
    "\n",
    "assert (A_slice == A_slice_res).all()"
   ]
  },
  {
   "cell_type": "code",
   "execution_count": 12,
   "metadata": {},
   "outputs": [],
   "source": [
    "# put your code here\n",
    "A_slice = A[::2, [1, 3, 4]]\n",
    "\n",
    "A_slice_res = np.array([[ 1,  3,  4],\n",
    "                        [13, 15, 16],\n",
    "                        [25, 27, 28]])\n",
    "\n",
    "assert (A_slice == A_slice_res).all()"
   ]
  },
  {
   "cell_type": "code",
   "execution_count": 13,
   "metadata": {},
   "outputs": [],
   "source": [
    "# put your code here\n",
    "A_slice = A[np.ix_([1, 3, 4], [1, 3, 4])]\n",
    "\n",
    "A_slice_res = np.array([[ 7,  9, 10],\n",
    "                        [19, 21, 22],\n",
    "                        [25, 27, 28]])\n",
    "\n",
    "assert (A_slice == A_slice_res).all()"
   ]
  },
  {
   "cell_type": "markdown",
   "metadata": {},
   "source": [
    "* Создайте массив $A$ в виде [шахматной доски](https://ru.wikipedia.org/wiki/%D0%A8%D0%B0%D1%85%D0%BC%D0%B0%D1%82%D0%BD%D0%B0%D1%8F_%D0%B4%D0%BE%D1%81%D0%BA%D0%B0). **(0.25 балла)**\n",
    "\n",
    "    **Подсказка:** задание решается с использованием индексации в несколько действий, не обязательно помещать все в одно выражение."
   ]
  },
  {
   "cell_type": "code",
   "execution_count": 14,
   "metadata": {},
   "outputs": [],
   "source": [
    "A = np.zeros(8 * 8).reshape(8, 8)\n",
    "A[1::2, ::2] = 1\n",
    "A[::2, 1::2] = 1\n",
    "\n",
    "A_res = np.array([[0, 1, 0, 1, 0, 1, 0, 1],\n",
    "                  [1, 0, 1, 0, 1, 0, 1, 0],\n",
    "                  [0, 1, 0, 1, 0, 1, 0, 1],\n",
    "                  [1, 0, 1, 0, 1, 0, 1, 0],\n",
    "                  [0, 1, 0, 1, 0, 1, 0, 1],\n",
    "                  [1, 0, 1, 0, 1, 0, 1, 0],\n",
    "                  [0, 1, 0, 1, 0, 1, 0, 1],\n",
    "                  [1, 0, 1, 0, 1, 0, 1, 0]])\n",
    "\n",
    "assert (A == A_res).all()"
   ]
  },
  {
   "cell_type": "markdown",
   "metadata": {},
   "source": [
    "* Возьмите столбцы, в которых есть хотя бы одно значение равно 7. **(0.25 балла)**"
   ]
  },
  {
   "cell_type": "code",
   "execution_count": 15,
   "metadata": {},
   "outputs": [
    {
     "data": {
      "text/plain": [
       "array([[ 5,  6,  2,  4,  4],\n",
       "       [ 1,  2,  3,  5,  0],\n",
       "       [ 0,  2,  3, 10,  7],\n",
       "       [ 2,  3,  6,  7,  7],\n",
       "       [ 7,  3,  6,  2,  2]])"
      ]
     },
     "execution_count": 15,
     "metadata": {},
     "output_type": "execute_result"
    }
   ],
   "source": [
    "np.random.seed(7964)\n",
    "\n",
    "A = np.random.randint(0, 8, size=(5, 5))\n",
    "A[2, 3] = 10\n",
    "A"
   ]
  },
  {
   "cell_type": "code",
   "execution_count": 16,
   "metadata": {},
   "outputs": [
    {
     "data": {
      "text/plain": [
       "array([[ 5,  4,  4],\n",
       "       [ 1,  5,  0],\n",
       "       [ 0, 10,  7],\n",
       "       [ 2,  7,  7],\n",
       "       [ 7,  2,  2]])"
      ]
     },
     "execution_count": 16,
     "metadata": {},
     "output_type": "execute_result"
    }
   ],
   "source": [
    "B = A[:, (A == 7).any(axis=0)]\n",
    "B"
   ]
  },
  {
   "cell_type": "markdown",
   "metadata": {},
   "source": [
    "* Найдите индексы значений, которые меньше 4. **(0.25 балла)**"
   ]
  },
  {
   "cell_type": "code",
   "execution_count": 17,
   "metadata": {},
   "outputs": [
    {
     "data": {
      "text/plain": [
       "(array([0, 1, 1, 1, 1, 2, 2, 2, 3, 3, 4, 4, 4]),\n",
       " array([2, 0, 1, 2, 4, 0, 1, 2, 0, 1, 1, 3, 4]))"
      ]
     },
     "execution_count": 17,
     "metadata": {},
     "output_type": "execute_result"
    }
   ],
   "source": [
    "np.where(A < 4)"
   ]
  },
  {
   "cell_type": "markdown",
   "metadata": {},
   "source": [
    "* Найдите индексы значений, которые меньше 4 и не меньше 2. **(0.25 балла)**"
   ]
  },
  {
   "cell_type": "code",
   "execution_count": 18,
   "metadata": {},
   "outputs": [
    {
     "data": {
      "text/plain": [
       "(array([0, 1, 1, 2, 2, 3, 3, 4, 4, 4]), array([2, 1, 2, 1, 2, 0, 1, 1, 3, 4]))"
      ]
     },
     "execution_count": 18,
     "metadata": {},
     "output_type": "execute_result"
    }
   ],
   "source": [
    "np.where((A >= 2) & (A < 4))"
   ]
  },
  {
   "cell_type": "markdown",
   "metadata": {},
   "source": [
    "* Получите значения по этим индексам. **(0.25 балла)**"
   ]
  },
  {
   "cell_type": "code",
   "execution_count": 19,
   "metadata": {},
   "outputs": [
    {
     "data": {
      "text/plain": [
       "array([2, 2, 3, 2, 3, 2, 3, 3, 2, 2])"
      ]
     },
     "execution_count": 19,
     "metadata": {},
     "output_type": "execute_result"
    }
   ],
   "source": [
    "A[np.where((A >= 2) & (A < 4))]"
   ]
  },
  {
   "cell_type": "markdown",
   "metadata": {},
   "source": [
    "* Найдите все индексы, где достигаются максимумы по строке в массиве $B$. **(0.5 балла)**\n",
    "\n",
    "    **Подсказка:** `np.argmax` тут не подойдет. Почему?"
   ]
  },
  {
   "cell_type": "code",
   "execution_count": 20,
   "metadata": {},
   "outputs": [
    {
     "data": {
      "text/plain": [
       "array([[0, 0, 3, 1, 3, 2],\n",
       "       [2, 3, 0, 0, 3, 0],\n",
       "       [0, 1, 2, 0, 0, 2],\n",
       "       [2, 0, 2, 0, 2, 1],\n",
       "       [1, 1, 0, 0, 1, 3]])"
      ]
     },
     "execution_count": 20,
     "metadata": {},
     "output_type": "execute_result"
    }
   ],
   "source": [
    "B = [[0, 0, 3, 1, 3, 2],\n",
    "     [2, 3, 0, 0, 3, 0],\n",
    "     [0, 1, 2, 0, 0, 2],\n",
    "     [2, 0, 2, 0, 2, 1],\n",
    "     [1, 1, 0, 0, 1, 3]]\n",
    "B = np.asarray(B)\n",
    "B"
   ]
  },
  {
   "cell_type": "code",
   "execution_count": 21,
   "metadata": {},
   "outputs": [
    {
     "data": {
      "text/plain": [
       "(array([0, 0, 1, 1, 2, 2, 3, 3, 3, 4]), array([2, 4, 1, 4, 2, 5, 0, 2, 4, 5]))"
      ]
     },
     "execution_count": 21,
     "metadata": {},
     "output_type": "execute_result"
    }
   ],
   "source": [
    "C = np.expand_dims(B.max(axis=1), axis=1)\n",
    "np.where(B == C)"
   ]
  },
  {
   "cell_type": "markdown",
   "metadata": {},
   "source": [
    "* Рассмотрим массив $A$. Модифицируйте предыдущее решение так, чтобы получился массив $C$ следующего вида **(0.5 балла)**:\n",
    "    * значения в матрице $C$ на позициях, где условие выполнено, совпадает со значениями на позициях в матрице $A$;\n",
    "    * иначе – `-np.inf`.\n",
    "\n",
    "  Сохраните результат в переменную $C$."
   ]
  },
  {
   "cell_type": "code",
   "execution_count": 22,
   "metadata": {},
   "outputs": [
    {
     "data": {
      "text/plain": [
       "array([[3, 1, 4, 5, 1, 2],\n",
       "       [3, 3, 2, 4, 2, 2],\n",
       "       [4, 1, 0, 1, 0, 2],\n",
       "       [1, 0, 4, 3, 4, 3],\n",
       "       [4, 2, 0, 1, 3, 4]])"
      ]
     },
     "execution_count": 22,
     "metadata": {},
     "output_type": "execute_result"
    }
   ],
   "source": [
    "A = [[3, 1, 4, 5, 1, 2],\n",
    "     [3, 3, 2, 4, 2, 2],\n",
    "     [4, 1, 0, 1, 0, 2],\n",
    "     [1, 0, 4, 3, 4, 3],\n",
    "     [4, 2, 0, 1, 3, 4]]\n",
    "A = np.asarray(A)\n",
    "A"
   ]
  },
  {
   "cell_type": "code",
   "execution_count": 28,
   "metadata": {},
   "outputs": [
    {
     "data": {
      "text/plain": [
       "array([[-inf, -inf,   4., -inf,   1., -inf],\n",
       "       [-inf,   3., -inf, -inf,   2., -inf],\n",
       "       [-inf, -inf,   0., -inf, -inf,   2.],\n",
       "       [  1., -inf,   4., -inf,   4., -inf],\n",
       "       [-inf, -inf, -inf, -inf, -inf,   4.]])"
      ]
     },
     "execution_count": 28,
     "metadata": {},
     "output_type": "execute_result"
    }
   ],
   "source": [
    "D = A.astype(float)\n",
    "C = np.where(np.isclose(C, B), D, -np.inf)\n",
    "C"
   ]
  },
  {
   "cell_type": "markdown",
   "metadata": {},
   "source": [
    "* Найдите индексы, где $C$ принимает наибольшие значения. **(0.25 балла)**\n",
    "\n",
    "    **Замечание:** помните о том, что `C.dtype == dtype('float')`, и числа с плавующей точкой нельзя сравнивать через `==`."
   ]
  },
  {
   "cell_type": "code",
   "execution_count": 31,
   "metadata": {},
   "outputs": [
    {
     "data": {
      "text/plain": [
       "(array([0, 3, 3, 4]), array([2, 2, 4, 5]))"
      ]
     },
     "execution_count": 31,
     "metadata": {},
     "output_type": "execute_result"
    }
   ],
   "source": [
    "np.where(np.isclose(C, C.max()))"
   ]
  },
  {
   "cell_type": "markdown",
   "metadata": {},
   "source": [
    "## Операции над массивами (4.5 балла)"
   ]
  },
  {
   "cell_type": "markdown",
   "metadata": {},
   "source": [
    "* Найдите максимальное значение в каждой строке массива $A$. **(0.25 балла)**"
   ]
  },
  {
   "cell_type": "code",
   "execution_count": 32,
   "metadata": {},
   "outputs": [
    {
     "data": {
      "text/plain": [
       "array([[ 5,  6,  2,  4,  4],\n",
       "       [ 1,  2,  3,  5,  0],\n",
       "       [ 0,  2,  3, 10,  7],\n",
       "       [ 2,  3,  6,  7,  7],\n",
       "       [ 7,  3,  6,  2,  2]])"
      ]
     },
     "execution_count": 32,
     "metadata": {},
     "output_type": "execute_result"
    }
   ],
   "source": [
    "np.random.seed(7964)\n",
    "\n",
    "A = np.random.randint(0, 8, size=(5, 5))\n",
    "A[2, 3] = 10\n",
    "A"
   ]
  },
  {
   "cell_type": "code",
   "execution_count": 34,
   "metadata": {},
   "outputs": [
    {
     "data": {
      "text/plain": [
       "array([ 6,  5, 10,  7,  7])"
      ]
     },
     "execution_count": 34,
     "metadata": {},
     "output_type": "execute_result"
    }
   ],
   "source": [
    "A.max(axis=1)"
   ]
  },
  {
   "cell_type": "markdown",
   "metadata": {},
   "source": [
    "* Найдите индексы максимального значения массива $A$. **(0.25 балла)**\n",
    "\n",
    "    **Запрещается** считать координаты максимума руками. Найдите для этого специальную функцию."
   ]
  },
  {
   "cell_type": "code",
   "execution_count": null,
   "metadata": {},
   "outputs": [],
   "source": [
    "# put your code here"
   ]
  },
  {
   "cell_type": "markdown",
   "metadata": {},
   "source": [
    "* Добавьте в массиве $A$ слева колонку, состоящую из 1. Сохраните свой результат в переменную $A$. **(0.25 балла)**"
   ]
  },
  {
   "cell_type": "code",
   "execution_count": null,
   "metadata": {},
   "outputs": [],
   "source": [
    "# put your code here\n",
    "# A = ..."
   ]
  },
  {
   "cell_type": "code",
   "execution_count": null,
   "metadata": {},
   "outputs": [],
   "source": [
    "np.random.seed(7942)\n",
    "\n",
    "W = (np.random.random(size=A.shape) > 0.5).astype(int)\n",
    "W"
   ]
  },
  {
   "cell_type": "markdown",
   "metadata": {},
   "source": [
    "* Умножьте массив $A$ на массив $W$ поэлементно. **(0.25 балла)**"
   ]
  },
  {
   "cell_type": "code",
   "execution_count": null,
   "metadata": {},
   "outputs": [],
   "source": [
    "# put your code here"
   ]
  },
  {
   "cell_type": "markdown",
   "metadata": {},
   "source": [
    "* Умножьте массив $A$ на массив $W^T$ матрично. **(0.25 балла)**"
   ]
  },
  {
   "cell_type": "code",
   "execution_count": null,
   "metadata": {},
   "outputs": [],
   "source": [
    "# put your code here"
   ]
  },
  {
   "cell_type": "code",
   "execution_count": null,
   "metadata": {},
   "outputs": [],
   "source": [
    "np.random.seed(4589)\n",
    "\n",
    "X = np.random.randint(0, 2, size=(5, 10))\n",
    "X"
   ]
  },
  {
   "cell_type": "code",
   "execution_count": null,
   "metadata": {},
   "outputs": [],
   "source": [
    "x = np.arange(1, 11, 1)\n",
    "x"
   ]
  },
  {
   "cell_type": "markdown",
   "metadata": {},
   "source": [
    "* Найдите скалярное произведение вектора $x$ с каждым из 5 векторов массива $X$. **(0.25 балла)**"
   ]
  },
  {
   "cell_type": "code",
   "execution_count": null,
   "metadata": {},
   "outputs": [],
   "source": [
    "# put your code here"
   ]
  },
  {
   "cell_type": "markdown",
   "metadata": {},
   "source": [
    "* Отнормируйте столбцы массива $X$ по $l1$-норме. **(0.25 балла)**"
   ]
  },
  {
   "cell_type": "code",
   "execution_count": null,
   "metadata": {},
   "outputs": [],
   "source": [
    "# put your code here"
   ]
  },
  {
   "cell_type": "markdown",
   "metadata": {},
   "source": [
    "* Таблица умножения. Создайте массив $9 \\times 9$, элементы которого являются произведениями индексов столбца и строки. **(0.5 балла)**"
   ]
  },
  {
   "cell_type": "code",
   "execution_count": null,
   "metadata": {},
   "outputs": [],
   "source": [
    "# put your code here"
   ]
  },
  {
   "cell_type": "code",
   "execution_count": null,
   "metadata": {},
   "outputs": [],
   "source": [
    "N, M = 5, 4"
   ]
  },
  {
   "cell_type": "markdown",
   "metadata": {},
   "source": [
    "* Создайте массив с повторами. Разрешается использовать константы N и M. **(0.25 балла)**\n",
    "\n",
    "    **Запрещается** использовать циклы."
   ]
  },
  {
   "cell_type": "code",
   "execution_count": null,
   "metadata": {},
   "outputs": [],
   "source": [
    "# put your code here"
   ]
  },
  {
   "cell_type": "markdown",
   "metadata": {},
   "source": [
    "* Создайте массив с повторами. Разрешается использовать константы N и M. **(0.25 балла)**\n",
    "\n",
    "    **Запрещается** использовать циклы."
   ]
  },
  {
   "cell_type": "code",
   "execution_count": null,
   "metadata": {},
   "outputs": [],
   "source": [
    "# put your code here"
   ]
  },
  {
   "cell_type": "markdown",
   "metadata": {},
   "source": [
    "* Даны два небольших массива $A$ размера $M \\times N$ и $B$ размера $K \\times N$. \n",
    "\n",
    "    Напишите функцию `find_equal_lines(A, B)`, которая найдет все индексы строк массива $A$, содержащиеся в $B$.\n",
    "\n",
    "    **Запрещается** использовать циклы. **(1 балл)**\n",
    "\n",
    "    **Подсказка**: попробуйте поэкспериментировать с размерностью массивов $A$ и $B$."
   ]
  },
  {
   "cell_type": "code",
   "execution_count": null,
   "metadata": {},
   "outputs": [],
   "source": [
    "def find_equal_lines(A, B):\n",
    "    # put your code here instead of pass\n",
    "    pass"
   ]
  },
  {
   "cell_type": "code",
   "execution_count": null,
   "metadata": {},
   "outputs": [],
   "source": [
    "A = np.array([\n",
    "    [1, 2, 3],\n",
    "    [1, 2, 1],\n",
    "    [4, 5, 6],\n",
    "    [1, 2, 1],\n",
    "])\n",
    "\n",
    "B = np.array([\n",
    "    [4, 5, 6],\n",
    "    [4, 5, 6],\n",
    "    [1, 2, 3],\n",
    "])\n",
    "\n",
    "indices = find_equal_lines(A, B)\n",
    "\n",
    "assert (indices == [0, 2]).all()"
   ]
  },
  {
   "cell_type": "markdown",
   "metadata": {},
   "source": [
    "### Изображения"
   ]
  },
  {
   "cell_type": "code",
   "execution_count": null,
   "metadata": {},
   "outputs": [],
   "source": [
    "# Если у вас не получается скачать изображение с помощью этого кода, можете скачать его в ручную.\n",
    "# Сохраните картинку рядом с этим ноутбуком и назовите image.jpg\n",
    "\n",
    "import urllib.request \n",
    "\n",
    "urllib.request.urlretrieve(\n",
    "    'https://upload.wikimedia.org/wikipedia/commons/thumb/3/33/Prokudin-Gorskii-19.jpg/555px-Prokudin-Gorskii-19.jpg',\n",
    "    'image.jpg'\n",
    ")"
   ]
  },
  {
   "cell_type": "code",
   "execution_count": null,
   "metadata": {},
   "outputs": [],
   "source": [
    "# Install package if it doesn't exist\n",
    "# !pip install imageio"
   ]
  },
  {
   "cell_type": "code",
   "execution_count": null,
   "metadata": {},
   "outputs": [],
   "source": [
    "import imageio\n",
    "\n",
    "def plot_image(img, zoom=1.5):\n",
    "    assert 2 <= len(img.shape) <= 3\n",
    "    \n",
    "    n_len = 6.5\n",
    "    \n",
    "    n, m = img.shape[:2]\n",
    "    frac = n / float(m)\n",
    "    n, m = zoom * frac * n_len, zoom * n_len\n",
    "    \n",
    "    fig = plt.figure(figsize=(n, m))\n",
    "    ax = fig.add_subplot(111)\n",
    "    ax.imshow(img)\n",
    "    ax.axis('off')\n",
    "    plt.show()"
   ]
  },
  {
   "cell_type": "code",
   "execution_count": null,
   "metadata": {},
   "outputs": [],
   "source": [
    "img = imageio.imread('image.jpg')\n",
    "plot_image(img, zoom=1.5)"
   ]
  },
  {
   "cell_type": "markdown",
   "metadata": {},
   "source": [
    "* Найдите среднее значению по каждому из каналов RGB. **(0.25 балла)**"
   ]
  },
  {
   "cell_type": "code",
   "execution_count": null,
   "metadata": {},
   "outputs": [],
   "source": [
    "# put your code here"
   ]
  },
  {
   "cell_type": "markdown",
   "metadata": {},
   "source": [
    "* Посчитайте разброс (среднеквадратичное отклонение) значений по каждому из каналов. **(0.25 балла)**"
   ]
  },
  {
   "cell_type": "code",
   "execution_count": null,
   "metadata": {},
   "outputs": [],
   "source": [
    "# put your code here"
   ]
  },
  {
   "cell_type": "markdown",
   "metadata": {},
   "source": [
    "* Поменяйте каналы в обратном порядке. Сохраните результат в переменную img. **(0.25 балла)**"
   ]
  },
  {
   "cell_type": "code",
   "execution_count": null,
   "metadata": {},
   "outputs": [],
   "source": [
    "# put your code here"
   ]
  },
  {
   "cell_type": "code",
   "execution_count": null,
   "metadata": {},
   "outputs": [],
   "source": [
    "plot_image(img, zoom=1.5)"
   ]
  },
  {
   "cell_type": "markdown",
   "metadata": {},
   "source": [
    "<center><h3>🎉 Ты уже прошёл больше половины пути. Вперед! 🎉</h3></center>"
   ]
  },
  {
   "cell_type": "markdown",
   "metadata": {},
   "source": [
    "## Случайный классификатор (1.75 балла)"
   ]
  },
  {
   "cell_type": "markdown",
   "metadata": {},
   "source": [
    "### Случайный классификатор"
   ]
  },
  {
   "cell_type": "code",
   "execution_count": null,
   "metadata": {},
   "outputs": [],
   "source": [
    "from sklearn.base import ClassifierMixin\n",
    "\n",
    "class RandomClassifier(ClassifierMixin):\n",
    "    def __init__(self, n_classes=2, seed=8888):\n",
    "        self.n_classes = n_classes\n",
    "        self.seed = seed\n",
    "    \n",
    "    def fit(self, X, y=None):\n",
    "        return self\n",
    "    \n",
    "    def predict_proba(self, X, y=None):\n",
    "        \"\"\"\n",
    "        Method returns np.ndarray y:\n",
    "            y.shape == (X.shape[0], n_classes)\n",
    "        \n",
    "        y satisfies:\n",
    "            sum y[i, j] where j in {0..n_classes-1} = 1 \n",
    "        \"\"\"\n",
    "        \n",
    "        np.random.seed(self.seed)\n",
    "        \n",
    "        X = np.asarray(X)\n",
    "        y = np.random.rand(X.shape[0], self.n_classes)\n",
    "        y /= np.expand_dims(y.sum(axis=1), axis=1)\n",
    "            \n",
    "        return y\n",
    "    \n",
    "    def predict(self, X, y=None):\n",
    "        y_pred = self.predict_proba(X)\n",
    "        \n",
    "        raise NotImplementedError('Code your realisation here')"
   ]
  },
  {
   "cell_type": "code",
   "execution_count": null,
   "metadata": {},
   "outputs": [],
   "source": [
    "cls = RandomClassifier(n_classes=3, seed=3492)\n",
    "\n",
    "X = list(range(100))\n",
    "y_pred = cls.predict_proba(X)\n",
    "\n",
    "y_pred.shape"
   ]
  },
  {
   "cell_type": "markdown",
   "metadata": {},
   "source": [
    "* Убедитесь, что классификатор реализован правильно, т.е. сумма вероятностей для каждого примера из выборки равна 1.0. **(0.25 балла)**\n",
    "\n",
    "    Для сравнения с 1.0 используйте функцию `np.isclose` или `np.allclose`. Ваша проверка должна иметь вид:\n",
    "\n",
    "```python\n",
    "assert condition\n",
    "```"
   ]
  },
  {
   "cell_type": "code",
   "execution_count": null,
   "metadata": {},
   "outputs": [],
   "source": [
    "# put your code here\n",
    "# assert condition"
   ]
  },
  {
   "cell_type": "markdown",
   "metadata": {},
   "source": [
    "* Для каждого примера из выборки найдите класс-победитель, реализуйте эту логику в методе `predict`. **(0.25 балла)**"
   ]
  },
  {
   "cell_type": "code",
   "execution_count": null,
   "metadata": {},
   "outputs": [],
   "source": [
    "y_true = np.array([2, 0, 1, 1, 2, 0, 2, 1, 0, 1, 2, 1, 1, 1, 2, 2, 1, 2, 1, 0, 0, 1,\n",
    "                   2, 0, 0, 1, 0, 2, 2, 2, 0, 2, 1, 0, 0, 1, 1, 2, 2, 1, 2, 2, 1, 2,\n",
    "                   0, 2, 2, 0, 1, 1, 0, 1, 2, 1, 1, 2, 0, 1, 1, 2, 0, 2, 2, 0, 0, 0,\n",
    "                   1, 0, 2, 1, 1, 2, 0, 0, 0, 2, 1, 0, 2, 0, 0, 2, 0, 0, 1, 2, 1, 0,\n",
    "                   0, 0, 2, 1, 1, 1, 0, 0, 2, 1, 1, 1])\n",
    "\n",
    "y_pred = cls.predict(X)\n",
    "\n",
    "assert (y_pred == y_true).all()"
   ]
  },
  {
   "cell_type": "markdown",
   "metadata": {},
   "source": [
    "* Найдите количество примеров в каждом классе. **(0.25 балла)**"
   ]
  },
  {
   "cell_type": "code",
   "execution_count": null,
   "metadata": {},
   "outputs": [],
   "source": [
    "# put your code here"
   ]
  },
  {
   "cell_type": "markdown",
   "metadata": {},
   "source": [
    "* Напишите метрику LogLoss: **(0.25 балла)**\n",
    "\n",
    "$$ LogLoss(y, p) = - y log(p) - (1 - y) log(1 - p) $$\n",
    "\n",
    "* \n",
    "    * $y$ – истинная метка класса (0 или 1);\n",
    "    * $p$ – предсказанная вероятность того, что объект пренадлежит классу 1.\n",
    "\n",
    "$$ LogLoss = \\frac{1}{N} \\sum\\limits_{i=1}^N LogLoss(y_i, p_i) $$"
   ]
  },
  {
   "cell_type": "code",
   "execution_count": null,
   "metadata": {},
   "outputs": [],
   "source": [
    "def logloss(y_true, y_pred):\n",
    "    \"\"\"\n",
    "    Функция возвращает усредненный лог-лосс для всех точек, см. последнюю формулу.\n",
    "    \"\"\"\n",
    "    # put your code here instead of pass\n",
    "    pass"
   ]
  },
  {
   "cell_type": "code",
   "execution_count": null,
   "metadata": {},
   "outputs": [],
   "source": [
    "from sklearn.metrics import log_loss\n",
    "\n",
    "cls = RandomClassifier(n_classes=2, seed=5498)\n",
    "\n",
    "X = list(range(100))\n",
    "y_pred = cls.predict_proba(X)[:,1]\n",
    "y_true = (np.random.random(len(X)) > 0.5).astype(int)\n",
    "\n",
    "score = logloss(y_true, y_pred)\n",
    "assert np.allclose(score, log_loss(y_true, y_pred))\n",
    "\n",
    "score"
   ]
  },
  {
   "cell_type": "markdown",
   "metadata": {},
   "source": [
    "### Случайный регрессор"
   ]
  },
  {
   "cell_type": "code",
   "execution_count": null,
   "metadata": {},
   "outputs": [],
   "source": [
    "from sklearn.base import RegressorMixin\n",
    "\n",
    "class RandomRegressor(RegressorMixin):\n",
    "    def __init__(self, seed=8888):\n",
    "        self.seed = seed\n",
    "    \n",
    "    def fit(self, X, y=None):\n",
    "        return self\n",
    "    \n",
    "    def predict(self, X, y=None):\n",
    "        \"\"\"\n",
    "        Method returns np.ndarray y:\n",
    "            y.shape == (X.shape[0], ) \n",
    "        \"\"\"\n",
    "        \n",
    "        np.random.seed(self.seed)\n",
    "        \n",
    "        X = np.asarray(X)\n",
    "        y = np.random.rand(X.shape[0])\n",
    "        y = 2 * (y - 0.5)\n",
    "            \n",
    "        return y"
   ]
  },
  {
   "cell_type": "markdown",
   "metadata": {},
   "source": [
    "* Напишите метрику MSE: **(0.25 балла)**\n",
    "\n",
    "$$ MSE = \\frac{1}{N} \\sum\\limits_{i=1}^{N} (y_i - \\hat y_i) ^ 2 $$\n",
    "\n",
    "* \n",
    "    * $y_i$ – истиное значение для i-го примера;\n",
    "    * $\\hat y_i$ – предсказанное значение для i-го примера."
   ]
  },
  {
   "cell_type": "code",
   "execution_count": null,
   "metadata": {},
   "outputs": [],
   "source": [
    "def mse(y_true, y_pred):\n",
    "    # put your code here instead of pass\n",
    "    pass"
   ]
  },
  {
   "cell_type": "code",
   "execution_count": null,
   "metadata": {},
   "outputs": [],
   "source": [
    "from sklearn.metrics import mean_squared_error\n",
    "\n",
    "reg = RandomRegressor(seed=5498)\n",
    "\n",
    "X = list(range(100))\n",
    "y_pred = reg.predict(X)\n",
    "y_true = 2 * ((np.random.random(len(X)) > 0.5).astype(int) - 0.5)\n",
    "\n",
    "score = mean_squared_error(y_true, y_pred)\n",
    "assert np.allclose(score, mse(y_true, y_pred))\n",
    "\n",
    "score"
   ]
  },
  {
   "cell_type": "markdown",
   "metadata": {},
   "source": [
    "### Голосование"
   ]
  },
  {
   "cell_type": "markdown",
   "metadata": {},
   "source": [
    "* Предположим, что мы используем набор из `K` различных классификаторов. Результаты работы классификаторов для `N` объектов хранятся в массиве `y_pred`, `y_pred.shape = (N, K)`.\n",
    "\n",
    "    Требуется провести обычное голосование для каждого из объектов и выбрать метку-победитель (метка, встретившаяся для данного объекта наибольшее число раз). Если меток-победителей несколько, допустимо выбрать любую. **(0.5 балла)**"
   ]
  },
  {
   "cell_type": "code",
   "execution_count": null,
   "metadata": {},
   "outputs": [],
   "source": [
    "np.random.seed(9866)\n",
    "\n",
    "y_pred = np.random.randint(0, 3, size=(10, 5))\n",
    "y_pred"
   ]
  },
  {
   "cell_type": "code",
   "execution_count": null,
   "metadata": {},
   "outputs": [],
   "source": [
    "# put your code here"
   ]
  },
  {
   "cell_type": "markdown",
   "metadata": {},
   "source": [
    "<center><h3>🎉 Ты почти дошел до конца! Осталось сделать ещё два сильных рывка! 🎉</h3></center>"
   ]
  },
  {
   "cell_type": "markdown",
   "metadata": {},
   "source": [
    "## Ранжирование и сортировка (1.25 балла)"
   ]
  },
  {
   "cell_type": "code",
   "execution_count": null,
   "metadata": {},
   "outputs": [],
   "source": [
    "# Если ваш компьютер не тянет такую большую матрицу разрешается\n",
    "# понизить ее размеры, например, уменьшить число строк\n",
    "\n",
    "np.random.seed(9872)\n",
    "\n",
    "ranks_raw = [np.random.choice(50_000, size=(1_000, ), replace=False) for _ in range(3_000)]\n",
    "ranks_raw = np.asarray(ranks_raw)\n",
    "ranks_raw"
   ]
  },
  {
   "cell_type": "code",
   "execution_count": null,
   "metadata": {},
   "outputs": [],
   "source": [
    "%%time\n",
    "\n",
    "def get_best_ranks_slow(ranks, top=10, return_ranks=False):\n",
    "    indices = ranks.argsort(axis=1)[:,:-top-1:-1]\n",
    "    result = (indices, )\n",
    "    \n",
    "    if return_ranks:\n",
    "        ranks = np.sort(ranks, axis=1)[:,:-top-1:-1]\n",
    "        result += (ranks, )\n",
    "        \n",
    "    return result if len(result) > 1 else result[0]\n",
    "\n",
    "indices_result = get_best_ranks_slow(ranks_raw, top=15)"
   ]
  },
  {
   "cell_type": "markdown",
   "metadata": {},
   "source": [
    "* **Шаг 1: (0.25 балла)** \n",
    "\n",
    "    Напишите функцию `get_best_ranks(ranks, top=10)`, которая для каждой строчки выводит `top` индексов столбцов, в которых значение `ranks` максимально.\n",
    "\n",
    "    Результат вашей функции должен быть равен результату работы `get_best_ranks_slow` быть может только за исключением порядка самих индексов в строках.\n",
    "\n",
    "    **Замечание по реализации:** реализация приведенная выше неэффективна, сортировка работает за `O(N log(N))`. Приведите решение, которое работает за `O(N)`, где `N` – размер исходного массива.\n",
    "\n",
    "    **Подсказка:** google \"get indexes of n maximum values\""
   ]
  },
  {
   "cell_type": "code",
   "execution_count": null,
   "metadata": {},
   "outputs": [],
   "source": [
    "%%time\n",
    "\n",
    "def get_best_ranks(ranks, top=10):\n",
    "    # put your code here instead of pass\n",
    "    pass\n",
    "\n",
    "indices = get_best_ranks(ranks_raw, top=15)"
   ]
  },
  {
   "cell_type": "code",
   "execution_count": null,
   "metadata": {},
   "outputs": [],
   "source": [
    "assert (np.sort(indices, axis=1) == np.sort(indices_result, axis=1)).all()"
   ]
  },
  {
   "cell_type": "markdown",
   "metadata": {},
   "source": [
    "* **Шаг 2: (0.5 балла)**\n",
    "\n",
    "    Модифицируйте ваше решение, добавив в функцию сортировку так, чтобы результат работы функции `get_best_ranks` **в точности совпадал** с результатом работы функции `get_best_ranks_slow`. Приведите решение, которое работает за `O(N) + O(K log(K))`, где `N` – размер исходного массива, а `K` – число элементов в топе.\n",
    "\n",
    "    **Замечание:** легко убедиться в том, что такое решение не улучшает асимптотику в смысле O-большого. Положим $K = a N; a \\in (0, 1]$, тогда\n",
    "\n",
    "    $$ O(K \\log K) = O(a \\cdot N \\cdot \\log(a \\cdot N)) = \\\n",
    "   O(a N \\cdot (\\log a + \\log N) = \\\n",
    "   O(a \\cdot \\log a \\cdot N + a \\cdot N \\cdot \\log N) = \\\n",
    "   O(N \\log N)  $$\n",
    "   \n",
    "    Однако она зависит от константы $a$, поэтому такой вариант реализации работает быстрее, чем реализация `get_best_ranks_slow`."
   ]
  },
  {
   "cell_type": "code",
   "execution_count": null,
   "metadata": {},
   "outputs": [],
   "source": [
    "%%time\n",
    "\n",
    "def get_best_ranks(ranks, top=10):\n",
    "    # put your code here instead of pass\n",
    "    pass\n",
    "\n",
    "indices = get_best_ranks(ranks_raw, top=15)"
   ]
  },
  {
   "cell_type": "code",
   "execution_count": null,
   "metadata": {},
   "outputs": [],
   "source": [
    "assert (indices == indices_result).all()"
   ]
  },
  {
   "cell_type": "markdown",
   "metadata": {},
   "source": [
    "* **Шаг 3: (0.25 балла)**\n",
    "\n",
    "    Поддержите в функции `get_best_ranks` аргумент `return_ranks=True`. В этом случае функция должна возвращать еще и значения ранков, см. реализацию `get_best_ranks_slow`.\n",
    "\n",
    "    **Замечание:** поддержка аргумента не должна приводить к увеличению сложности, т.е. реализация в функции `get_best_ranks_slow` неверная."
   ]
  },
  {
   "cell_type": "code",
   "execution_count": null,
   "metadata": {},
   "outputs": [],
   "source": [
    "_, ranks_result = get_best_ranks_slow(ranks_raw, top=15, return_ranks=True)"
   ]
  },
  {
   "cell_type": "code",
   "execution_count": null,
   "metadata": {},
   "outputs": [],
   "source": [
    "%%time\n",
    "\n",
    "def get_best_ranks(ranks, top=10, return_ranks=False):\n",
    "    # put your code here instead of pass\n",
    "    pass\n",
    "\n",
    "_, ranks = get_best_ranks(ranks_raw, top=15, return_ranks=True)"
   ]
  },
  {
   "cell_type": "code",
   "execution_count": null,
   "metadata": {},
   "outputs": [],
   "source": [
    "assert np.isclose(ranks, ranks_result).all()"
   ]
  },
  {
   "cell_type": "markdown",
   "metadata": {},
   "source": [
    "## Снежинка Коха (1 балл)\n",
    "\n",
    "В этом задании предлагается поэтапно научиться строить фрактал [Снежинку Коха](https://en.wikipedia.org/wiki/Koch_snowflake).\n",
    "\n",
    "<img src=https://i.pinimg.com/originals/fe/8f/26/fe8f26548e9c75575a0e0d25a88e58e4.jpg width=480px></img>"
   ]
  },
  {
   "cell_type": "markdown",
   "metadata": {},
   "source": [
    "### Небольшое напоминание про компле́ксные числа.\n",
    "\n",
    "Комплексным числом $z$ называется упорядоченная пара действительных чисел $(x, y); x, y \\in \\mathbb{R}$. Число $x$ называется действительной частью $z$, а число $y$ – мнимой частью числа $z$. Для них приняты следующие обозначения: $x = \\text{Re}(z)$; $y = \\text{Im}(z)$.\n",
    "\n",
    "Множество комплексных чисел обозначается $\\mathbb{C}$ (комплексная плоскость). Комплексное число $z$ можно интерпретировать как точку $(x, y)$ на комплексной плоскости.\n",
    "\n",
    "Мнимой единицей называется комплексное число $i = (0, 1)$. Таким образом, число $z$ можно записать, как $$z = x + i y$$\n",
    "\n",
    "Сопряженным к комплексному числу $z$ называется комплексное число $$\\hat z = x - i y$$\n",
    "\n",
    "Модулем комплексного числа $z$ называется $$|z| = \\sqrt{x ^ 2 + y ^ 2}$$\n",
    "\n",
    "Угол $\\varphi$, составленный между точкой $z \\ne 0$ и положительным направленим полуоси $Ox$, называется аргументом числа $z$. Аргумент числа $z$ определен с точностью до $2 \\pi n$: $$ \\text{Arg} z = \\{ \\varphi + 2 \\pi n; n \\in Z \\} $$\n",
    "\n",
    "Число $\\varphi_0 = \\varphi \\in (-\\pi; \\pi]$ – называется главным аргументом числа $z$.\n",
    "\n",
    "Если $\\varphi \\in \\text{Arg} z$, то имеет место представление: $$ z = |z| (\\cos \\varphi + i \\sin \\varphi) $$\n",
    "\n",
    "Используя формулу Эйлера $e^{i \\varphi} = \\cos \\varphi + i \\sin \\varphi$ имеем $$z = |z| e ^ {i \\varphi}$$\n",
    "\n",
    "Пусть\n",
    "$$ z_1 = x_1 + i y_1 = |z_1| e ^ {i \\varphi_1} $$\n",
    "$$ z_2 = x_2 + i y_2 = |z_2| e ^ {i \\varphi_2} $$\n",
    "\n",
    "Несколько важных свойств комплексных чисел:\n",
    "\n",
    "* $z_1 \\pm z_2 = (x_1 \\pm x_2) + i (y_1 \\pm y_2)$;\n",
    "* $z_1 \\cdot z_2 = (x_1 x_2 - y_1 y_2) + i (x_1 y_2 + x_2 y_1) = |z_1| |z_2| e ^ {i (\\varphi_1 + \\varphi_2)} $;\n",
    "* $z_1 / z_2 = |z_1| / |z_2| e ^ {i (\\varphi_1 - \\varphi_2)} $;\n",
    "* $z^n = |z|^n e ^ {i n \\varphi} = |z| ^ n (\\cos {n \\varphi} + i \\sin {n \\varphi}), n \\in \\mathbb{Z}$ – формула Муавра-Лапласса.\n",
    "\n",
    "Корнем $n$-й степени ($n \\in \\mathbb{N}$) из комплексного числа $z$ называется комплексное число $z_k^n$: $(z_k)^n = z$. В случае $z \\ne 0$ имеем $n$ различных корней:\n",
    "\n",
    "$$ z_k^n = |z|^{1/n} e ^ {i (\\varphi + 2 \\pi k) / n}; k \\in \\overline {0, n-1} $$"
   ]
  },
  {
   "cell_type": "markdown",
   "metadata": {},
   "source": [
    "* **Шаг 1:** Напишите функцию, которая извлекает комплексный корень из 1. **(0.25 балла)**"
   ]
  },
  {
   "cell_type": "code",
   "execution_count": null,
   "metadata": {},
   "outputs": [],
   "source": [
    "def complex_roots(n):\n",
    "    # put your code here instead of pass\n",
    "    pass\n",
    "\n",
    "roots = complex_roots(5)\n",
    "roots"
   ]
  },
  {
   "cell_type": "code",
   "execution_count": null,
   "metadata": {},
   "outputs": [],
   "source": [
    "roots = np.append(roots, roots[0])\n",
    "\n",
    "plt.figure(figsize=(5, 5))\n",
    "plt.xlim(-1.1, 1.1)\n",
    "plt.ylim(-1.1, 1.1)\n",
    "\n",
    "plt.quiver(\n",
    "    roots.real[:-1],\n",
    "    roots.imag[:-1],\n",
    "    roots.real[1:] - roots.real[:-1],\n",
    "    roots.imag[1:] - roots.imag[:-1],\n",
    "    scale_units='xy',\n",
    "    angles='xy',\n",
    "    scale=1,\n",
    "    color='C0',\n",
    ")\n",
    "\n",
    "plt.show()"
   ]
  },
  {
   "cell_type": "markdown",
   "metadata": {},
   "source": [
    "* **Шаг 2:** Напишите функцию, которая строит кривую Коха 1-го порядка. **(0.25 балла)**\n",
    "\n",
    "    Разрешается захаркодить конкретные значения, но эти значения должны выражаться в виде правильной непериодической дроби.\n",
    "\n",
    "    Например, дробь $1 \\backslash 3$ допустима, а ее \"округленный\" вариант 0.666667 – нет."
   ]
  },
  {
   "cell_type": "code",
   "execution_count": null,
   "metadata": {},
   "outputs": [],
   "source": [
    "def koch_curve():\n",
    "    # put your code here instead of pass\n",
    "    pass\n",
    "\n",
    "curve = koch_curve()\n",
    "curve"
   ]
  },
  {
   "cell_type": "code",
   "execution_count": null,
   "metadata": {},
   "outputs": [],
   "source": [
    "plt.figure(figsize=(5, 5))\n",
    "plt.axis('equal')\n",
    "\n",
    "plt.plot(curve.real, curve.imag)\n",
    "\n",
    "plt.quiver(\n",
    "    curve.real[:-1],\n",
    "    curve.imag[:-1],\n",
    "    curve.real[1:] - curve.real[:-1],\n",
    "    curve.imag[1:] - curve.imag[:-1],\n",
    "    scale_units='xy',\n",
    "    angles='xy',\n",
    "    scale=1,\n",
    "    color='C0',\n",
    ")\n",
    "\n",
    "plt.show()"
   ]
  },
  {
   "cell_type": "markdown",
   "metadata": {},
   "source": [
    "* **Шаг 3:** Заменим стороны в пятиугольнике выше на кривые Коха первого порядка. **(0.5 балла)**\n",
    "\n",
    "    **Замечание:** Чтобы всё точно получилось, проверьте, что обход кривых на шагах 1 и 2 совпадает (либо в обоих сучаях по часовой, либо против)."
   ]
  },
  {
   "cell_type": "code",
   "execution_count": null,
   "metadata": {},
   "outputs": [],
   "source": [
    "def change_edges_to_koch_curves(vertices):\n",
    "    # put your code here instead of pass\n",
    "    # use koch_curve function here\n",
    "    pass\n",
    "\n",
    "vertices = complex_roots(5)\n",
    "line = change_edges_to_koch_curves(vertices)\n",
    "line.shape"
   ]
  },
  {
   "cell_type": "code",
   "execution_count": null,
   "metadata": {},
   "outputs": [],
   "source": [
    "line = np.concatenate([line, [line[0]]])\n",
    "\n",
    "plt.figure(figsize=(5, 5))\n",
    "plt.axis('equal')\n",
    "plt.plot(line.real, line.imag)\n",
    "plt.show()"
   ]
  },
  {
   "cell_type": "markdown",
   "metadata": {},
   "source": [
    "* **Шаг 4:** Построим снежинку Коха."
   ]
  },
  {
   "cell_type": "code",
   "execution_count": null,
   "metadata": {},
   "outputs": [],
   "source": [
    "def koch_snowflake(order, scale=10):\n",
    "    def _koch_snowflake_complex(order):\n",
    "        if order == 0:\n",
    "            vertices = complex_roots(3) * 1j\n",
    "        else:\n",
    "            vertices = _koch_snowflake_complex(order - 1)\n",
    "            vertices = change_edges_to_koch_curves(vertices)\n",
    "        return vertices\n",
    "\n",
    "    points = scale * _koch_snowflake_complex(order)\n",
    "    x, y = points.real, points.imag\n",
    "    return x, y\n",
    "\n",
    "x, y = koch_snowflake(order=5)\n",
    "\n",
    "plt.figure(figsize=(8, 8))\n",
    "plt.axis('equal')\n",
    "plt.fill(x, y)\n",
    "plt.show()"
   ]
  },
  {
   "cell_type": "markdown",
   "metadata": {},
   "source": [
    "<center><h3>🎉 Поздравляю, ты справился с заданием по NumPy! Ты молодец! 🎉</h3></center>"
   ]
  },
  {
   "cell_type": "code",
   "execution_count": null,
   "metadata": {},
   "outputs": [],
   "source": []
  }
 ],
 "metadata": {
  "kernelspec": {
   "display_name": "Python 3",
   "language": "python",
   "name": "python3"
  },
  "language_info": {
   "codemirror_mode": {
    "name": "ipython",
    "version": 3
   },
   "file_extension": ".py",
   "mimetype": "text/x-python",
   "name": "python",
   "nbconvert_exporter": "python",
   "pygments_lexer": "ipython3",
   "version": "3.7.10"
  }
 },
 "nbformat": 4,
 "nbformat_minor": 2
}

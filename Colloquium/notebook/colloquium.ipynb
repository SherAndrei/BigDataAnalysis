{
 "cells": [
  {
   "cell_type": "markdown",
   "metadata": {},
   "source": [
    "### Часть 1. Программирование на Python"
   ]
  },
  {
   "cell_type": "markdown",
   "metadata": {},
   "source": [
    "Ссылка на контест:\n",
    "\n",
    "http://45.77.142.102/cgi-bin/new-client?contest_id=12"
   ]
  },
  {
   "cell_type": "markdown",
   "metadata": {},
   "source": [
    "### Часть 2. Проверка статистических гипотез"
   ]
  },
  {
   "cell_type": "markdown",
   "metadata": {},
   "source": [
    "На платформе Delivery Club рестораны с быстрой скоростью доставки (готовка блюда + доставка блюда курьером до клиента), как правило - это рестораны, которые пользуются наибольшей популярность среди пользователей и получают наивысшую оценку (5 баллов). "
   ]
  },
  {
   "cell_type": "markdown",
   "metadata": {},
   "source": [
    "Дан датасет **quality_restaurants.csv**, который преставляет из себя выборку с характеристиками некоторых ресторанов платформы DC. \n",
    "\n",
    "*avg_cook_time* - среднее время готовки ресторана, \n",
    "\n",
    "*avg_rest_toclient_time* - среднее время доставки блюда курьером ресторана до клиента, \n",
    "\n",
    "*rating* - бальная оценка ресторана (средний пользовательский рейтинг).\n",
    "\n",
    "*restaurant_id* - идентификатор ресторана\n",
    "\n",
    "*city_id* - идентификатор города"
   ]
  },
  {
   "cell_type": "markdown",
   "metadata": {},
   "source": [
    "### Задание 1"
   ]
  },
  {
   "cell_type": "code",
   "execution_count": 1,
   "metadata": {},
   "outputs": [],
   "source": [
    "import pandas as pd"
   ]
  },
  {
   "cell_type": "code",
   "execution_count": 2,
   "metadata": {},
   "outputs": [
    {
     "data": {
      "text/html": [
       "<div>\n",
       "<style scoped>\n",
       "    .dataframe tbody tr th:only-of-type {\n",
       "        vertical-align: middle;\n",
       "    }\n",
       "\n",
       "    .dataframe tbody tr th {\n",
       "        vertical-align: top;\n",
       "    }\n",
       "\n",
       "    .dataframe thead th {\n",
       "        text-align: right;\n",
       "    }\n",
       "</style>\n",
       "<table border=\"1\" class=\"dataframe\">\n",
       "  <thead>\n",
       "    <tr style=\"text-align: right;\">\n",
       "      <th></th>\n",
       "      <th>avg_cook_time</th>\n",
       "      <th>avg_rest_toclient_time</th>\n",
       "      <th>rating</th>\n",
       "      <th>city_id</th>\n",
       "    </tr>\n",
       "    <tr>\n",
       "      <th>restaurant_id</th>\n",
       "      <th></th>\n",
       "      <th></th>\n",
       "      <th></th>\n",
       "      <th></th>\n",
       "    </tr>\n",
       "  </thead>\n",
       "  <tbody>\n",
       "    <tr>\n",
       "      <th>0</th>\n",
       "      <td>1.456798e+01</td>\n",
       "      <td>1.882925e+01</td>\n",
       "      <td>5</td>\n",
       "      <td>1</td>\n",
       "    </tr>\n",
       "    <tr>\n",
       "      <th>1</th>\n",
       "      <td>2.663857e+00</td>\n",
       "      <td>2.358426e+00</td>\n",
       "      <td>3</td>\n",
       "      <td>3</td>\n",
       "    </tr>\n",
       "    <tr>\n",
       "      <th>2</th>\n",
       "      <td>1.106665e+01</td>\n",
       "      <td>1.300000e+01</td>\n",
       "      <td>1</td>\n",
       "      <td>3</td>\n",
       "    </tr>\n",
       "    <tr>\n",
       "      <th>3</th>\n",
       "      <td>1.484324e+01</td>\n",
       "      <td>1.267024e+01</td>\n",
       "      <td>5</td>\n",
       "      <td>3</td>\n",
       "    </tr>\n",
       "    <tr>\n",
       "      <th>4</th>\n",
       "      <td>8.097093e+00</td>\n",
       "      <td>2.112668e+01</td>\n",
       "      <td>3</td>\n",
       "      <td>2</td>\n",
       "    </tr>\n",
       "    <tr>\n",
       "      <th>...</th>\n",
       "      <td>...</td>\n",
       "      <td>...</td>\n",
       "      <td>...</td>\n",
       "      <td>...</td>\n",
       "    </tr>\n",
       "    <tr>\n",
       "      <th>297</th>\n",
       "      <td>2.187737e+01</td>\n",
       "      <td>5.600239e+00</td>\n",
       "      <td>5</td>\n",
       "      <td>3</td>\n",
       "    </tr>\n",
       "    <tr>\n",
       "      <th>298</th>\n",
       "      <td>1.055604e+01</td>\n",
       "      <td>6.177070e+00</td>\n",
       "      <td>1</td>\n",
       "      <td>2</td>\n",
       "    </tr>\n",
       "    <tr>\n",
       "      <th>299</th>\n",
       "      <td>1.000000e+01</td>\n",
       "      <td>1.626414e+01</td>\n",
       "      <td>4</td>\n",
       "      <td>2</td>\n",
       "    </tr>\n",
       "    <tr>\n",
       "      <th>300</th>\n",
       "      <td>9.999927e+06</td>\n",
       "      <td>8.888779e+07</td>\n",
       "      <td>4</td>\n",
       "      <td>2</td>\n",
       "    </tr>\n",
       "    <tr>\n",
       "      <th>301</th>\n",
       "      <td>9.999927e+06</td>\n",
       "      <td>8.888779e+07</td>\n",
       "      <td>4</td>\n",
       "      <td>3</td>\n",
       "    </tr>\n",
       "  </tbody>\n",
       "</table>\n",
       "<p>302 rows × 4 columns</p>\n",
       "</div>"
      ],
      "text/plain": [
       "               avg_cook_time  avg_rest_toclient_time  rating  city_id\n",
       "restaurant_id                                                        \n",
       "0               1.456798e+01            1.882925e+01       5        1\n",
       "1               2.663857e+00            2.358426e+00       3        3\n",
       "2               1.106665e+01            1.300000e+01       1        3\n",
       "3               1.484324e+01            1.267024e+01       5        3\n",
       "4               8.097093e+00            2.112668e+01       3        2\n",
       "...                      ...                     ...     ...      ...\n",
       "297             2.187737e+01            5.600239e+00       5        3\n",
       "298             1.055604e+01            6.177070e+00       1        2\n",
       "299             1.000000e+01            1.626414e+01       4        2\n",
       "300             9.999927e+06            8.888779e+07       4        2\n",
       "301             9.999927e+06            8.888779e+07       4        3\n",
       "\n",
       "[302 rows x 4 columns]"
      ]
     },
     "execution_count": 2,
     "metadata": {},
     "output_type": "execute_result"
    }
   ],
   "source": [
    "df = pd.read_csv('quality_restaurants.csv', index_col='restaurant_id', sep=',')\n",
    "df"
   ]
  },
  {
   "cell_type": "markdown",
   "metadata": {},
   "source": [
    "Есть ли разница между **средним временем доставки ресторанов с рейтингом 5 звезд, 4 звезды, меньше 4 звезд.** При оценке использовать непараметрический критерий."
   ]
  },
  {
   "cell_type": "code",
   "execution_count": 3,
   "metadata": {},
   "outputs": [],
   "source": [
    "top1 = df[df.rating == 5]\n",
    "top2 = df[df.rating == 4]\n",
    "other = df[df.rating < 4]"
   ]
  },
  {
   "cell_type": "markdown",
   "metadata": {},
   "source": [
    "$H_0$: Распределения трех выборок равны - нет разницы\\\n",
    "$H_1$: $H_0$ неверна - есть разница\n"
   ]
  },
  {
   "cell_type": "markdown",
   "metadata": {},
   "source": [
    "Используем непараметрический критерий Краскела — Уоллиса (обобщения критерия Манна — Уитни) для множества несвязанных выборок"
   ]
  },
  {
   "cell_type": "code",
   "execution_count": 4,
   "metadata": {},
   "outputs": [],
   "source": [
    "from scipy.stats import kruskal"
   ]
  },
  {
   "cell_type": "code",
   "execution_count": 9,
   "metadata": {},
   "outputs": [
    {
     "name": "stdout",
     "output_type": "stream",
     "text": [
      "Stat=45.79900806604573, p-value=1.1346757155270986e-10\n",
      "Разница есть\n"
     ]
    }
   ],
   "source": [
    "stat, p = kruskal(top1.avg_rest_toclient_time, top2.avg_rest_toclient_time, other.avg_rest_toclient_time)\n",
    "\n",
    "print(f'Stat={stat}, p-value={p}')\n",
    "\n",
    "print(\"Разницы нет\" if p > 0.05 else 'Разница есть')"
   ]
  },
  {
   "cell_type": "markdown",
   "metadata": {},
   "source": [
    "### Задание 2\n"
   ]
  },
  {
   "cell_type": "markdown",
   "metadata": {},
   "source": [
    "Для **города 3** рассчитать силу взаимосвязи между среднем временем готовки ресторана и среднем временем доставки. Позволяют ли полученные данные говорить о существовании связи? "
   ]
  },
  {
   "cell_type": "code",
   "execution_count": 10,
   "metadata": {},
   "outputs": [
    {
     "data": {
      "text/html": [
       "<div>\n",
       "<style scoped>\n",
       "    .dataframe tbody tr th:only-of-type {\n",
       "        vertical-align: middle;\n",
       "    }\n",
       "\n",
       "    .dataframe tbody tr th {\n",
       "        vertical-align: top;\n",
       "    }\n",
       "\n",
       "    .dataframe thead th {\n",
       "        text-align: right;\n",
       "    }\n",
       "</style>\n",
       "<table border=\"1\" class=\"dataframe\">\n",
       "  <thead>\n",
       "    <tr style=\"text-align: right;\">\n",
       "      <th></th>\n",
       "      <th>avg_cook_time</th>\n",
       "      <th>avg_rest_toclient_time</th>\n",
       "      <th>rating</th>\n",
       "      <th>city_id</th>\n",
       "    </tr>\n",
       "    <tr>\n",
       "      <th>restaurant_id</th>\n",
       "      <th></th>\n",
       "      <th></th>\n",
       "      <th></th>\n",
       "      <th></th>\n",
       "    </tr>\n",
       "  </thead>\n",
       "  <tbody>\n",
       "    <tr>\n",
       "      <th>1</th>\n",
       "      <td>2.663857e+00</td>\n",
       "      <td>2.358426e+00</td>\n",
       "      <td>3</td>\n",
       "      <td>3</td>\n",
       "    </tr>\n",
       "    <tr>\n",
       "      <th>2</th>\n",
       "      <td>1.106665e+01</td>\n",
       "      <td>1.300000e+01</td>\n",
       "      <td>1</td>\n",
       "      <td>3</td>\n",
       "    </tr>\n",
       "    <tr>\n",
       "      <th>3</th>\n",
       "      <td>1.484324e+01</td>\n",
       "      <td>1.267024e+01</td>\n",
       "      <td>5</td>\n",
       "      <td>3</td>\n",
       "    </tr>\n",
       "    <tr>\n",
       "      <th>11</th>\n",
       "      <td>1.361751e+01</td>\n",
       "      <td>2.148637e+01</td>\n",
       "      <td>5</td>\n",
       "      <td>3</td>\n",
       "    </tr>\n",
       "    <tr>\n",
       "      <th>17</th>\n",
       "      <td>5.334727e+00</td>\n",
       "      <td>1.300000e+01</td>\n",
       "      <td>2</td>\n",
       "      <td>3</td>\n",
       "    </tr>\n",
       "    <tr>\n",
       "      <th>...</th>\n",
       "      <td>...</td>\n",
       "      <td>...</td>\n",
       "      <td>...</td>\n",
       "      <td>...</td>\n",
       "    </tr>\n",
       "    <tr>\n",
       "      <th>292</th>\n",
       "      <td>1.921343e+01</td>\n",
       "      <td>1.766494e+01</td>\n",
       "      <td>5</td>\n",
       "      <td>3</td>\n",
       "    </tr>\n",
       "    <tr>\n",
       "      <th>294</th>\n",
       "      <td>3.597857e+00</td>\n",
       "      <td>2.872979e+00</td>\n",
       "      <td>1</td>\n",
       "      <td>3</td>\n",
       "    </tr>\n",
       "    <tr>\n",
       "      <th>295</th>\n",
       "      <td>1.301986e+01</td>\n",
       "      <td>4.721711e+00</td>\n",
       "      <td>5</td>\n",
       "      <td>3</td>\n",
       "    </tr>\n",
       "    <tr>\n",
       "      <th>297</th>\n",
       "      <td>2.187737e+01</td>\n",
       "      <td>5.600239e+00</td>\n",
       "      <td>5</td>\n",
       "      <td>3</td>\n",
       "    </tr>\n",
       "    <tr>\n",
       "      <th>301</th>\n",
       "      <td>9.999927e+06</td>\n",
       "      <td>8.888779e+07</td>\n",
       "      <td>4</td>\n",
       "      <td>3</td>\n",
       "    </tr>\n",
       "  </tbody>\n",
       "</table>\n",
       "<p>110 rows × 4 columns</p>\n",
       "</div>"
      ],
      "text/plain": [
       "               avg_cook_time  avg_rest_toclient_time  rating  city_id\n",
       "restaurant_id                                                        \n",
       "1               2.663857e+00            2.358426e+00       3        3\n",
       "2               1.106665e+01            1.300000e+01       1        3\n",
       "3               1.484324e+01            1.267024e+01       5        3\n",
       "11              1.361751e+01            2.148637e+01       5        3\n",
       "17              5.334727e+00            1.300000e+01       2        3\n",
       "...                      ...                     ...     ...      ...\n",
       "292             1.921343e+01            1.766494e+01       5        3\n",
       "294             3.597857e+00            2.872979e+00       1        3\n",
       "295             1.301986e+01            4.721711e+00       5        3\n",
       "297             2.187737e+01            5.600239e+00       5        3\n",
       "301             9.999927e+06            8.888779e+07       4        3\n",
       "\n",
       "[110 rows x 4 columns]"
      ]
     },
     "execution_count": 10,
     "metadata": {},
     "output_type": "execute_result"
    }
   ],
   "source": [
    "city = df[df.city_id == 3]\n",
    "city"
   ]
  },
  {
   "cell_type": "markdown",
   "metadata": {},
   "source": [
    "Интерпретируем задачу иначе: \\\n",
    "    Существует ли корреляция между двумя случайными величинами?\n",
    "\n",
    "$H_0$: данные независимы \\\n",
    "$H_1$: иначе"
   ]
  },
  {
   "cell_type": "code",
   "execution_count": 15,
   "metadata": {},
   "outputs": [],
   "source": [
    "from scipy.stats import spearmanr, pearsonr, shapiro"
   ]
  },
  {
   "cell_type": "markdown",
   "metadata": {},
   "source": [
    "Проверим данные на нормальность"
   ]
  },
  {
   "cell_type": "code",
   "execution_count": 18,
   "metadata": {},
   "outputs": [
    {
     "data": {
      "text/plain": [
       "(ShapiroResult(statistic=0.06995248794555664, pvalue=3.158851499994602e-23),\n",
       " ShapiroResult(statistic=0.06994974613189697, pvalue=3.158611686279415e-23))"
      ]
     },
     "execution_count": 18,
     "metadata": {},
     "output_type": "execute_result"
    }
   ],
   "source": [
    "shapiro(city.avg_cook_time), shapiro(city.avg_rest_toclient_time)"
   ]
  },
  {
   "cell_type": "markdown",
   "metadata": {},
   "source": [
    "Данные не являются нормальными при $\\alpha = 0.05$. Вместо Пирсона будем пользоваться Спирменом для выявления корреляции:"
   ]
  },
  {
   "cell_type": "code",
   "execution_count": 20,
   "metadata": {},
   "outputs": [
    {
     "data": {
      "text/plain": [
       "SpearmanrResult(correlation=0.16558525059385773, pvalue=0.08384680668275912)"
      ]
     },
     "execution_count": 20,
     "metadata": {},
     "output_type": "execute_result"
    }
   ],
   "source": [
    "spearmanr(city.avg_cook_time, city.avg_rest_toclient_time)"
   ]
  },
  {
   "cell_type": "markdown",
   "metadata": {},
   "source": [
    "При $\\alpha = 0.05$ мы должны принимать $H_0$, так как $p>\\alpha$. Но обратим внимание, что\n",
    "при чуть бОльшем $\\alpha$, например $0.1$ можно уже утверждать, что зависимость есть. \\\n",
    "Попробуем другой тест, а именно Тау Кендалла:"
   ]
  },
  {
   "cell_type": "code",
   "execution_count": 21,
   "metadata": {},
   "outputs": [],
   "source": [
    "from scipy.stats import kendalltau"
   ]
  },
  {
   "cell_type": "code",
   "execution_count": 22,
   "metadata": {},
   "outputs": [
    {
     "data": {
      "text/plain": [
       "KendalltauResult(correlation=0.11171507359823139, pvalue=0.0843764304076722)"
      ]
     },
     "execution_count": 22,
     "metadata": {},
     "output_type": "execute_result"
    }
   ],
   "source": [
    "kendalltau(city.avg_cook_time, city.avg_rest_toclient_time)"
   ]
  },
  {
   "cell_type": "markdown",
   "metadata": {},
   "source": [
    "Опять же, pvalue не дает четких результатов. Чисто интуитивно хочется сказать, что все-таки скорость приготовления влияет на время доставки, но здесь все зависит от выбранного уровня значимости. \\\n",
    "При $\\alpha = 0.1$ зависимость есть \\\n",
    "При $\\alpha = 0.05$ данные независимы \\\n",
    "Думаю, что правильный ответ на поставленный вопрос это нет,\n",
    "полученные данные не позволяют говорить о существовании взаимосвязи."
   ]
  },
  {
   "cell_type": "markdown",
   "metadata": {},
   "source": [
    "### Часть 3. SQL"
   ]
  },
  {
   "cell_type": "markdown",
   "metadata": {},
   "source": [
    "Дана таблица **ORDERS** со следующими столбцами: id (идентификатор заказа), city_id (идентификатор города), user_id (идентификатор клиента).\n",
    "Также дана таблица **CITIES**, поля - id (идентификатор города), city_name (название города).\n",
    "Задача - написать SQL-запрос, отвечающий на следующий вопрос: сколько уникальных клиентов выполнили заказ в городах на букву П."
   ]
  },
  {
   "cell_type": "code",
   "execution_count": 8,
   "metadata": {},
   "outputs": [],
   "source": [
    "\"\"\"SELECT COUNT(user_id) FROM \n",
    "    (SELECT distinct user_id FROM\n",
    "        orders JOIN CITIES ON ORDERS.city_id=CITIES.id\n",
    "            WHERE city_name LIKE 'П%');\"\"\""
   ]
  }
 ],
 "metadata": {
  "kernelspec": {
   "display_name": "Python 3.7.10 64-bit ('da': conda)",
   "language": "python",
   "name": "python3710jvsc74a57bd0fb1e9936674d641b0e1ac5c75cd75c2e7215014ff333cadbd6ad2f998d1f79a6"
  },
  "language_info": {
   "codemirror_mode": {
    "name": "ipython",
    "version": 3
   },
   "file_extension": ".py",
   "mimetype": "text/x-python",
   "name": "python",
   "nbconvert_exporter": "python",
   "pygments_lexer": "ipython3",
   "version": "3.7.10"
  }
 },
 "nbformat": 4,
 "nbformat_minor": 2
}

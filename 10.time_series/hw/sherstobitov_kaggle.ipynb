{
 "cells": [
  {
   "cell_type": "markdown",
   "id": "898395b4",
   "metadata": {},
   "source": [
    "## Тройное экспоненциальное сглаживание"
   ]
  },
  {
   "cell_type": "code",
   "execution_count": 1,
   "id": "859f332c",
   "metadata": {},
   "outputs": [],
   "source": [
    "import numpy as np\n",
    "import pandas as pd\n",
    "from statsmodels.tsa.api import ExponentialSmoothing\n",
    "from datetime import timedelta\n",
    "\n",
    "from sklearn.metrics import mean_absolute_error as mae\n",
    "\n",
    "from tqdm.notebook import tqdm\n",
    "\n",
    "import warnings\n",
    "warnings.filterwarnings('ignore')"
   ]
  },
  {
   "cell_type": "code",
   "execution_count": 2,
   "id": "6e0366e0",
   "metadata": {},
   "outputs": [],
   "source": [
    "traindf = pd.read_csv('data/train.csv', sep=',', parse_dates=['date'],index_col='date')\n",
    "traindf = traindf.drop(columns='id')"
   ]
  },
  {
   "cell_type": "code",
   "execution_count": 3,
   "id": "b752d4bc",
   "metadata": {},
   "outputs": [],
   "source": [
    "testdf = pd.read_csv('data/test.csv', sep=',', parse_dates=['date'],index_col='date')\n",
    "testdf = testdf.drop(columns='id')"
   ]
  },
  {
   "cell_type": "code",
   "execution_count": 4,
   "id": "1180247b",
   "metadata": {},
   "outputs": [],
   "source": [
    "traindf['label'] = 'train'\n",
    "testdf['label'] = 'test'\n",
    "\n",
    "df = pd.concat((traindf,testdf), axis = 0)\n",
    "df['quantity'] = np.where(df.label == 'train', df.quantity, np.nan)"
   ]
  },
  {
   "cell_type": "code",
   "execution_count": 5,
   "id": "2800b752",
   "metadata": {},
   "outputs": [],
   "source": [
    "train_dates = pd.date_range(min(traindf.index), min(testdf.index) - timedelta(1))\n",
    "test_dates  = pd.date_range(min(testdf.index), max(testdf.index))"
   ]
  },
  {
   "cell_type": "code",
   "execution_count": 6,
   "id": "4191329c",
   "metadata": {},
   "outputs": [],
   "source": [
    "week = 7"
   ]
  },
  {
   "cell_type": "code",
   "execution_count": 7,
   "id": "202dfa80",
   "metadata": {},
   "outputs": [],
   "source": [
    "from sklearn.model_selection import TimeSeriesSplit\n",
    "tss = TimeSeriesSplit(n_splits=3)"
   ]
  },
  {
   "cell_type": "code",
   "execution_count": 8,
   "id": "e291c8ef",
   "metadata": {},
   "outputs": [],
   "source": [
    "def do_validation(train):\n",
    "    errors = dict()\n",
    "    for nperiods in range(7, 31, 7):\n",
    "        for train_idx, test_idx in tss.split(train):\n",
    "            model = ExponentialSmoothing(np.asarray(train), seasonal_periods=nperiods, seasonal='add', trend='add').fit()\n",
    "            forecast = pd.Series(model.forecast(len(test_idx)))\n",
    "            errors.setdefault(nperiods, []).append(mae(train.iloc[test_idx].values, forecast.values))\n",
    "    return min(errors, key=lambda k: np.mean(errors.get(k)))"
   ]
  },
  {
   "cell_type": "code",
   "execution_count": 9,
   "id": "489f6e94",
   "metadata": {},
   "outputs": [
    {
     "data": {
      "text/html": [
       "<div>\n",
       "<style scoped>\n",
       "    .dataframe tbody tr th:only-of-type {\n",
       "        vertical-align: middle;\n",
       "    }\n",
       "\n",
       "    .dataframe tbody tr th {\n",
       "        vertical-align: top;\n",
       "    }\n",
       "\n",
       "    .dataframe thead th {\n",
       "        text-align: right;\n",
       "    }\n",
       "</style>\n",
       "<table border=\"1\" class=\"dataframe\">\n",
       "  <thead>\n",
       "    <tr style=\"text-align: right;\">\n",
       "      <th></th>\n",
       "    </tr>\n",
       "  </thead>\n",
       "  <tbody>\n",
       "  </tbody>\n",
       "</table>\n",
       "</div>"
      ],
      "text/plain": [
       "Empty DataFrame\n",
       "Columns: []\n",
       "Index: []"
      ]
     },
     "execution_count": 9,
     "metadata": {},
     "output_type": "execute_result"
    }
   ],
   "source": [
    "def make_prediction(frame):\n",
    "    mask = (df.product_id == frame.product_id[0]) & (df.warehouse_id == frame.warehouse_id[0])\n",
    "    quantity = df[mask]['quantity'][:-week]\n",
    "    if (len(quantity) == 0):\n",
    "        df.loc[mask & (df.label == 'test'), 'quantity'] = pd.Series(np.zeros(week), index = test_dates)\n",
    "        return\n",
    "\n",
    "    train = pd.Series(index=train_dates, dtype='float64').combine_first(quantity).fillna(0)\n",
    "\n",
    "    nperiods = do_validation(train)\n",
    "\n",
    "    fit = ExponentialSmoothing(np.asarray(train), seasonal_periods=nperiods,trend='add', seasonal='add').fit()\n",
    "    df.loc[mask & (df.label == 'test'), 'quantity'] = pd.Series(fit.forecast(week), index = test_dates)\n",
    "\n",
    "\n",
    "testdf.groupby(['warehouse_id','product_id', 'label']).agg(make_prediction)"
   ]
  },
  {
   "cell_type": "code",
   "execution_count": 10,
   "id": "a698efe0",
   "metadata": {},
   "outputs": [
    {
     "data": {
      "text/html": [
       "<div>\n",
       "<style scoped>\n",
       "    .dataframe tbody tr th:only-of-type {\n",
       "        vertical-align: middle;\n",
       "    }\n",
       "\n",
       "    .dataframe tbody tr th {\n",
       "        vertical-align: top;\n",
       "    }\n",
       "\n",
       "    .dataframe thead th {\n",
       "        text-align: right;\n",
       "    }\n",
       "</style>\n",
       "<table border=\"1\" class=\"dataframe\">\n",
       "  <thead>\n",
       "    <tr style=\"text-align: right;\">\n",
       "      <th></th>\n",
       "      <th>warehouse_id</th>\n",
       "      <th>product_id</th>\n",
       "      <th>quantity</th>\n",
       "      <th>label</th>\n",
       "    </tr>\n",
       "    <tr>\n",
       "      <th>date</th>\n",
       "      <th></th>\n",
       "      <th></th>\n",
       "      <th></th>\n",
       "      <th></th>\n",
       "    </tr>\n",
       "  </thead>\n",
       "  <tbody>\n",
       "    <tr>\n",
       "      <th>2021-04-09</th>\n",
       "      <td>0</td>\n",
       "      <td>71165</td>\n",
       "      <td>2.466150</td>\n",
       "      <td>test</td>\n",
       "    </tr>\n",
       "    <tr>\n",
       "      <th>2021-04-09</th>\n",
       "      <td>1</td>\n",
       "      <td>71165</td>\n",
       "      <td>6.857162</td>\n",
       "      <td>test</td>\n",
       "    </tr>\n",
       "    <tr>\n",
       "      <th>2021-04-09</th>\n",
       "      <td>0</td>\n",
       "      <td>71170</td>\n",
       "      <td>-0.224253</td>\n",
       "      <td>test</td>\n",
       "    </tr>\n",
       "    <tr>\n",
       "      <th>2021-04-09</th>\n",
       "      <td>1</td>\n",
       "      <td>71170</td>\n",
       "      <td>0.054411</td>\n",
       "      <td>test</td>\n",
       "    </tr>\n",
       "    <tr>\n",
       "      <th>2021-04-09</th>\n",
       "      <td>0</td>\n",
       "      <td>71185</td>\n",
       "      <td>0.663822</td>\n",
       "      <td>test</td>\n",
       "    </tr>\n",
       "    <tr>\n",
       "      <th>...</th>\n",
       "      <td>...</td>\n",
       "      <td>...</td>\n",
       "      <td>...</td>\n",
       "      <td>...</td>\n",
       "    </tr>\n",
       "    <tr>\n",
       "      <th>2021-04-15</th>\n",
       "      <td>1</td>\n",
       "      <td>98615</td>\n",
       "      <td>0.020406</td>\n",
       "      <td>test</td>\n",
       "    </tr>\n",
       "    <tr>\n",
       "      <th>2021-04-15</th>\n",
       "      <td>0</td>\n",
       "      <td>98620</td>\n",
       "      <td>0.000000</td>\n",
       "      <td>test</td>\n",
       "    </tr>\n",
       "    <tr>\n",
       "      <th>2021-04-15</th>\n",
       "      <td>1</td>\n",
       "      <td>98620</td>\n",
       "      <td>0.020406</td>\n",
       "      <td>test</td>\n",
       "    </tr>\n",
       "    <tr>\n",
       "      <th>2021-04-15</th>\n",
       "      <td>0</td>\n",
       "      <td>98635</td>\n",
       "      <td>0.000000</td>\n",
       "      <td>test</td>\n",
       "    </tr>\n",
       "    <tr>\n",
       "      <th>2021-04-15</th>\n",
       "      <td>1</td>\n",
       "      <td>98635</td>\n",
       "      <td>0.040773</td>\n",
       "      <td>test</td>\n",
       "    </tr>\n",
       "  </tbody>\n",
       "</table>\n",
       "<p>46032 rows × 4 columns</p>\n",
       "</div>"
      ],
      "text/plain": [
       "            warehouse_id  product_id  quantity label\n",
       "date                                                \n",
       "2021-04-09             0       71165  2.466150  test\n",
       "2021-04-09             1       71165  6.857162  test\n",
       "2021-04-09             0       71170 -0.224253  test\n",
       "2021-04-09             1       71170  0.054411  test\n",
       "2021-04-09             0       71185  0.663822  test\n",
       "...                  ...         ...       ...   ...\n",
       "2021-04-15             1       98615  0.020406  test\n",
       "2021-04-15             0       98620  0.000000  test\n",
       "2021-04-15             1       98620  0.020406  test\n",
       "2021-04-15             0       98635  0.000000  test\n",
       "2021-04-15             1       98635  0.040773  test\n",
       "\n",
       "[46032 rows x 4 columns]"
      ]
     },
     "execution_count": 10,
     "metadata": {},
     "output_type": "execute_result"
    }
   ],
   "source": [
    "res = df[(df.label == 'test')].copy()\n",
    "res"
   ]
  },
  {
   "cell_type": "code",
   "execution_count": 11,
   "id": "cd5f9446",
   "metadata": {},
   "outputs": [
    {
     "data": {
      "text/html": [
       "<div>\n",
       "<style scoped>\n",
       "    .dataframe tbody tr th:only-of-type {\n",
       "        vertical-align: middle;\n",
       "    }\n",
       "\n",
       "    .dataframe tbody tr th {\n",
       "        vertical-align: top;\n",
       "    }\n",
       "\n",
       "    .dataframe thead th {\n",
       "        text-align: right;\n",
       "    }\n",
       "</style>\n",
       "<table border=\"1\" class=\"dataframe\">\n",
       "  <thead>\n",
       "    <tr style=\"text-align: right;\">\n",
       "      <th></th>\n",
       "      <th>date</th>\n",
       "      <th>warehouse_id</th>\n",
       "      <th>product_id</th>\n",
       "      <th>quantity</th>\n",
       "      <th>label</th>\n",
       "    </tr>\n",
       "  </thead>\n",
       "  <tbody>\n",
       "    <tr>\n",
       "      <th>0</th>\n",
       "      <td>2021-04-09</td>\n",
       "      <td>0</td>\n",
       "      <td>71165</td>\n",
       "      <td>2.466150</td>\n",
       "      <td>test</td>\n",
       "    </tr>\n",
       "    <tr>\n",
       "      <th>1</th>\n",
       "      <td>2021-04-09</td>\n",
       "      <td>1</td>\n",
       "      <td>71165</td>\n",
       "      <td>6.857162</td>\n",
       "      <td>test</td>\n",
       "    </tr>\n",
       "    <tr>\n",
       "      <th>2</th>\n",
       "      <td>2021-04-09</td>\n",
       "      <td>0</td>\n",
       "      <td>71170</td>\n",
       "      <td>-0.224253</td>\n",
       "      <td>test</td>\n",
       "    </tr>\n",
       "    <tr>\n",
       "      <th>3</th>\n",
       "      <td>2021-04-09</td>\n",
       "      <td>1</td>\n",
       "      <td>71170</td>\n",
       "      <td>0.054411</td>\n",
       "      <td>test</td>\n",
       "    </tr>\n",
       "    <tr>\n",
       "      <th>4</th>\n",
       "      <td>2021-04-09</td>\n",
       "      <td>0</td>\n",
       "      <td>71185</td>\n",
       "      <td>0.663822</td>\n",
       "      <td>test</td>\n",
       "    </tr>\n",
       "    <tr>\n",
       "      <th>...</th>\n",
       "      <td>...</td>\n",
       "      <td>...</td>\n",
       "      <td>...</td>\n",
       "      <td>...</td>\n",
       "      <td>...</td>\n",
       "    </tr>\n",
       "    <tr>\n",
       "      <th>46027</th>\n",
       "      <td>2021-04-15</td>\n",
       "      <td>1</td>\n",
       "      <td>98615</td>\n",
       "      <td>0.020406</td>\n",
       "      <td>test</td>\n",
       "    </tr>\n",
       "    <tr>\n",
       "      <th>46028</th>\n",
       "      <td>2021-04-15</td>\n",
       "      <td>0</td>\n",
       "      <td>98620</td>\n",
       "      <td>0.000000</td>\n",
       "      <td>test</td>\n",
       "    </tr>\n",
       "    <tr>\n",
       "      <th>46029</th>\n",
       "      <td>2021-04-15</td>\n",
       "      <td>1</td>\n",
       "      <td>98620</td>\n",
       "      <td>0.020406</td>\n",
       "      <td>test</td>\n",
       "    </tr>\n",
       "    <tr>\n",
       "      <th>46030</th>\n",
       "      <td>2021-04-15</td>\n",
       "      <td>0</td>\n",
       "      <td>98635</td>\n",
       "      <td>0.000000</td>\n",
       "      <td>test</td>\n",
       "    </tr>\n",
       "    <tr>\n",
       "      <th>46031</th>\n",
       "      <td>2021-04-15</td>\n",
       "      <td>1</td>\n",
       "      <td>98635</td>\n",
       "      <td>0.040773</td>\n",
       "      <td>test</td>\n",
       "    </tr>\n",
       "  </tbody>\n",
       "</table>\n",
       "<p>46032 rows × 5 columns</p>\n",
       "</div>"
      ],
      "text/plain": [
       "            date  warehouse_id  product_id  quantity label\n",
       "0     2021-04-09             0       71165  2.466150  test\n",
       "1     2021-04-09             1       71165  6.857162  test\n",
       "2     2021-04-09             0       71170 -0.224253  test\n",
       "3     2021-04-09             1       71170  0.054411  test\n",
       "4     2021-04-09             0       71185  0.663822  test\n",
       "...          ...           ...         ...       ...   ...\n",
       "46027 2021-04-15             1       98615  0.020406  test\n",
       "46028 2021-04-15             0       98620  0.000000  test\n",
       "46029 2021-04-15             1       98620  0.020406  test\n",
       "46030 2021-04-15             0       98635  0.000000  test\n",
       "46031 2021-04-15             1       98635  0.040773  test\n",
       "\n",
       "[46032 rows x 5 columns]"
      ]
     },
     "execution_count": 11,
     "metadata": {},
     "output_type": "execute_result"
    }
   ],
   "source": [
    "res.reset_index(inplace=True)\n",
    "res"
   ]
  },
  {
   "cell_type": "code",
   "execution_count": 20,
   "id": "c26c770a",
   "metadata": {},
   "outputs": [
    {
     "data": {
      "text/plain": [
       "array([71165, 71165, 71170, ..., 98620, 98635, 98635])"
      ]
     },
     "execution_count": 20,
     "metadata": {},
     "output_type": "execute_result"
    }
   ],
   "source": [
    "testdf['product_id'].to_numpy()"
   ]
  },
  {
   "cell_type": "code",
   "execution_count": 27,
   "id": "528a2e25",
   "metadata": {},
   "outputs": [],
   "source": [
    "finish = res.drop(columns=['date', 'warehouse_id', 'product_id', 'label'])"
   ]
  },
  {
   "cell_type": "code",
   "execution_count": 29,
   "id": "3f64a2bd",
   "metadata": {},
   "outputs": [],
   "source": [
    "finish.index.names = ['id']"
   ]
  },
  {
   "cell_type": "code",
   "execution_count": 32,
   "id": "a38dd459",
   "metadata": {},
   "outputs": [
    {
     "data": {
      "text/html": [
       "<div>\n",
       "<style scoped>\n",
       "    .dataframe tbody tr th:only-of-type {\n",
       "        vertical-align: middle;\n",
       "    }\n",
       "\n",
       "    .dataframe tbody tr th {\n",
       "        vertical-align: top;\n",
       "    }\n",
       "\n",
       "    .dataframe thead th {\n",
       "        text-align: right;\n",
       "    }\n",
       "</style>\n",
       "<table border=\"1\" class=\"dataframe\">\n",
       "  <thead>\n",
       "    <tr style=\"text-align: right;\">\n",
       "      <th></th>\n",
       "      <th>quantity</th>\n",
       "    </tr>\n",
       "    <tr>\n",
       "      <th>id</th>\n",
       "      <th></th>\n",
       "    </tr>\n",
       "  </thead>\n",
       "  <tbody>\n",
       "    <tr>\n",
       "      <th>0</th>\n",
       "      <td>2.466150</td>\n",
       "    </tr>\n",
       "    <tr>\n",
       "      <th>1</th>\n",
       "      <td>6.857162</td>\n",
       "    </tr>\n",
       "    <tr>\n",
       "      <th>2</th>\n",
       "      <td>-0.224253</td>\n",
       "    </tr>\n",
       "    <tr>\n",
       "      <th>3</th>\n",
       "      <td>0.054411</td>\n",
       "    </tr>\n",
       "    <tr>\n",
       "      <th>4</th>\n",
       "      <td>0.663822</td>\n",
       "    </tr>\n",
       "    <tr>\n",
       "      <th>...</th>\n",
       "      <td>...</td>\n",
       "    </tr>\n",
       "    <tr>\n",
       "      <th>46027</th>\n",
       "      <td>0.020406</td>\n",
       "    </tr>\n",
       "    <tr>\n",
       "      <th>46028</th>\n",
       "      <td>0.000000</td>\n",
       "    </tr>\n",
       "    <tr>\n",
       "      <th>46029</th>\n",
       "      <td>0.020406</td>\n",
       "    </tr>\n",
       "    <tr>\n",
       "      <th>46030</th>\n",
       "      <td>0.000000</td>\n",
       "    </tr>\n",
       "    <tr>\n",
       "      <th>46031</th>\n",
       "      <td>0.040773</td>\n",
       "    </tr>\n",
       "  </tbody>\n",
       "</table>\n",
       "<p>46032 rows × 1 columns</p>\n",
       "</div>"
      ],
      "text/plain": [
       "       quantity\n",
       "id             \n",
       "0      2.466150\n",
       "1      6.857162\n",
       "2     -0.224253\n",
       "3      0.054411\n",
       "4      0.663822\n",
       "...         ...\n",
       "46027  0.020406\n",
       "46028  0.000000\n",
       "46029  0.020406\n",
       "46030  0.000000\n",
       "46031  0.040773\n",
       "\n",
       "[46032 rows x 1 columns]"
      ]
     },
     "execution_count": 32,
     "metadata": {},
     "output_type": "execute_result"
    }
   ],
   "source": [
    "finish"
   ]
  },
  {
   "cell_type": "code",
   "execution_count": 31,
   "id": "4d9a1875",
   "metadata": {},
   "outputs": [],
   "source": [
    "finish.to_csv('sub3.csv')"
   ]
  },
  {
   "cell_type": "code",
   "execution_count": 33,
   "id": "895ca275",
   "metadata": {},
   "outputs": [],
   "source": [
    "finish['quantity'] = finish['quantity'].astype(int)"
   ]
  },
  {
   "cell_type": "code",
   "execution_count": 37,
   "id": "51f2bf6d",
   "metadata": {},
   "outputs": [],
   "source": [
    "finish.to_csv('sub4.csv')"
   ]
  },
  {
   "cell_type": "markdown",
   "id": "ef09d83f",
   "metadata": {},
   "source": [
    "## Линейная регрессия"
   ]
  },
  {
   "cell_type": "code",
   "execution_count": null,
   "id": "d62a769e",
   "metadata": {},
   "outputs": [],
   "source": [
    "import numpy as np\n",
    "import pandas as pd\n",
    "\n",
    "from datetime import datetime, timedelta\n",
    "from sklearn.linear_model import LinearRegression\n",
    "import matplotlib.pyplot as plt "
   ]
  },
  {
   "cell_type": "code",
   "execution_count": null,
   "id": "b4c39cd6",
   "metadata": {},
   "outputs": [],
   "source": [
    "traindf = pd.read_csv('data/train.csv', sep=',', parse_dates=['date'],index_col='date')\n",
    "traindf = traindf.drop(columns='id')"
   ]
  },
  {
   "cell_type": "code",
   "execution_count": null,
   "id": "fadc4dc6",
   "metadata": {},
   "outputs": [],
   "source": [
    "testdf = pd.read_csv('data/test.csv', sep=',', parse_dates=['date'],index_col='date')\n",
    "testdf = testdf.drop(columns='id')"
   ]
  },
  {
   "cell_type": "code",
   "execution_count": null,
   "id": "baec7ef4",
   "metadata": {},
   "outputs": [],
   "source": [
    "traindf['label'] = 'train'\n",
    "testdf['label'] = 'test'\n",
    "\n",
    "df = pd.concat((traindf,testdf), axis = 0)\n",
    "df['quantity'] = np.where(df.label == 'train', df.quantity, np.nan)"
   ]
  },
  {
   "cell_type": "code",
   "execution_count": null,
   "id": "b25d87c2",
   "metadata": {},
   "outputs": [],
   "source": [
    "df.sort_index(inplace=True)\n",
    "df.sort_values(['product_id','warehouse_id'], inplace=True)"
   ]
  },
  {
   "cell_type": "code",
   "execution_count": null,
   "id": "aa21cc10",
   "metadata": {},
   "outputs": [],
   "source": [
    "all_dates = pd.date_range(min(df.index), max(df.index))"
   ]
  },
  {
   "cell_type": "code",
   "execution_count": null,
   "id": "6de0ecbf",
   "metadata": {},
   "outputs": [],
   "source": [
    "lag_period = 1\n",
    "nperiods = 28\n",
    "\n",
    "features = []\n",
    "for period in range(1, nperiods + 1, 1):\n",
    "    df[f\"lperiod_{period}\"] = 0\n",
    "    features.append(f\"lperiod_{period}\")"
   ]
  },
  {
   "cell_type": "code",
   "execution_count": null,
   "id": "adb87bd0",
   "metadata": {},
   "outputs": [],
   "source": [
    "model = LinearRegression()"
   ]
  },
  {
   "cell_type": "code",
   "execution_count": null,
   "id": "438c0827",
   "metadata": {},
   "outputs": [],
   "source": [
    "def lag_periods(quantities, mask):\n",
    "    quantities = pd.Series(index=all_dates, dtype='float64').combine_first(quantities).fillna(0)\n",
    "    for period in range(1, nperiods + 1, 1):\n",
    "        df.loc[mask, f\"lperiod_{period}\"] = quantities.shift(period*lag_period)\n",
    "        \n",
    "def add_features(frame):\n",
    "    print(frame)\n",
    "    mask = (df.product_id == frame.product_id[0]) & (df.warehouse_id == frame.warehouse_id[0])\n",
    "    lag_periods(df.loc[mask, 'quantity'], mask)\n",
    "\n",
    "testdf.groupby(['warehouse_id','product_id', 'label']).agg(add_features)"
   ]
  },
  {
   "cell_type": "code",
   "execution_count": null,
   "id": "cb3026ea",
   "metadata": {},
   "outputs": [],
   "source": [
    "df['lmean'] = df[features].mean(axis = 1)\n",
    "features.extend(['lmean'])"
   ]
  },
  {
   "cell_type": "code",
   "execution_count": null,
   "id": "1736ddec",
   "metadata": {},
   "outputs": [],
   "source": [
    "def make_prediction(frame):\n",
    "    mask = (df.product_id == frame.product_id[0]) & (df.warehouse_id == frame.warehouse_id[0])\n",
    "    train_df = df[mask & (df.label == 'train')][features + ['quantity']].dropna()\n",
    "    test_df = df[mask & (df.label == 'test')][features]\n",
    "    \n",
    "    if (train_df.shape[0] == 0):\n",
    "        df.loc[mask & (df.label == 'test'), 'quantity'] = 0\n",
    "        return\n",
    "\n",
    "    model.fit(train_df.drop('quantity', axis = 1), train_df['quantity'])\n",
    "    df.loc[mask & (df.label == 'test'), 'quantity'] = model.predict(test_df)\n",
    "\n",
    "testdf.groupby(['warehouse_id','product_id', 'label']).agg(make_prediction)"
   ]
  },
  {
   "cell_type": "code",
   "execution_count": null,
   "id": "ea47c001",
   "metadata": {},
   "outputs": [],
   "source": [
    "test_df = df[(df.label == 'test')].copy()\n",
    "test_df.drop(columns=features + ['label'], inplace=True)\n",
    "test_df.reset_index(inplace=True)"
   ]
  },
  {
   "cell_type": "code",
   "execution_count": null,
   "id": "5467f100",
   "metadata": {},
   "outputs": [],
   "source": [
    "test_df = test_df.sort_values(['date', 'product_id', 'warehouse_id'])\n",
    "test_df.reset_index(inplace=True, drop=True)\n",
    "test_df.head(5)"
   ]
  },
  {
   "cell_type": "code",
   "execution_count": null,
   "id": "70a13128",
   "metadata": {},
   "outputs": [],
   "source": [
    "testdf.reset_index(inplace=True)\n",
    "testdf.head(5)"
   ]
  },
  {
   "cell_type": "code",
   "execution_count": null,
   "id": "4ed4112c",
   "metadata": {},
   "outputs": [],
   "source": [
    "test_df"
   ]
  },
  {
   "cell_type": "code",
   "execution_count": null,
   "id": "9b46a71c",
   "metadata": {},
   "outputs": [],
   "source": [
    "# test_df = test_df.drop(columns=['date', 'product_id', 'warehouse_id'])\n",
    "test_df.index.names = ['id']\n",
    "test_df.to_csv('sub2.csv')"
   ]
  },
  {
   "cell_type": "code",
   "execution_count": null,
   "id": "4feda850",
   "metadata": {},
   "outputs": [],
   "source": [
    "test_df"
   ]
  },
  {
   "cell_type": "code",
   "execution_count": null,
   "id": "532e0f12",
   "metadata": {},
   "outputs": [],
   "source": [
    "lin = read_csv('sub2.csv')"
   ]
  },
  {
   "cell_type": "markdown",
   "id": "8724dd47",
   "metadata": {},
   "source": [
    "## Среднее"
   ]
  },
  {
   "cell_type": "code",
   "execution_count": null,
   "id": "e9f7afe9",
   "metadata": {},
   "outputs": [],
   "source": [
    "def pred(row):\n",
    "    mask = (traindf.product_id == row.product_id) & (traindf.warehouse_id == row.warehouse_id)\n",
    "    return traindf[mask].quantity.mean()\n",
    "\n",
    "testdf['quantity'] = testdf.apply(pred, axis=1)"
   ]
  },
  {
   "cell_type": "code",
   "execution_count": null,
   "id": "1dc8f340",
   "metadata": {},
   "outputs": [],
   "source": [
    "testdf.fillna(0, inplace=True)"
   ]
  },
  {
   "cell_type": "code",
   "execution_count": null,
   "id": "e6df200f",
   "metadata": {},
   "outputs": [],
   "source": [
    "testdf.drop(columns=['date', 'product_id', 'warehouse_id']).to_csv('sub1.csv')"
   ]
  }
 ],
 "metadata": {
  "kernelspec": {
   "display_name": "Python 3.7.10 64-bit ('da': conda)",
   "language": "python",
   "name": "python3710jvsc74a57bd0fb1e9936674d641b0e1ac5c75cd75c2e7215014ff333cadbd6ad2f998d1f79a6"
  },
  "language_info": {
   "codemirror_mode": {
    "name": "ipython",
    "version": 3
   },
   "file_extension": ".py",
   "mimetype": "text/x-python",
   "name": "python",
   "nbconvert_exporter": "python",
   "pygments_lexer": "ipython3",
   "version": "3.7.10"
  }
 },
 "nbformat": 4,
 "nbformat_minor": 5
}

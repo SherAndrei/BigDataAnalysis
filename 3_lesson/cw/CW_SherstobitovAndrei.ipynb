{
 "cells": [
  {
   "cell_type": "markdown",
   "id": "experimental-cotton",
   "metadata": {},
   "source": [
    "**Задание 1.**\n",
    "Импортировать датасет из файла 'orders.csv' и присвоить его переменной\n",
    "(например, переменной df)."
   ]
  },
  {
   "cell_type": "code",
   "execution_count": 1,
   "id": "third-handy",
   "metadata": {},
   "outputs": [],
   "source": [
    "import pandas as pd\n",
    "import numpy as np\n",
    "\n",
    "data = pd.read_csv('orders.csv', sep = ',')"
   ]
  },
  {
   "cell_type": "markdown",
   "id": "defined-stylus",
   "metadata": {},
   "source": [
    "**Задание 2.** Вывести первые 10 строк датафрейма, изучить структуру таблицы."
   ]
  },
  {
   "cell_type": "code",
   "execution_count": 2,
   "id": "wired-sydney",
   "metadata": {},
   "outputs": [
    {
     "data": {
      "text/html": [
       "<div>\n",
       "<style scoped>\n",
       "    .dataframe tbody tr th:only-of-type {\n",
       "        vertical-align: middle;\n",
       "    }\n",
       "\n",
       "    .dataframe tbody tr th {\n",
       "        vertical-align: top;\n",
       "    }\n",
       "\n",
       "    .dataframe thead th {\n",
       "        text-align: right;\n",
       "    }\n",
       "</style>\n",
       "<table border=\"1\" class=\"dataframe\">\n",
       "  <thead>\n",
       "    <tr style=\"text-align: right;\">\n",
       "      <th></th>\n",
       "      <th>date</th>\n",
       "      <th>vendor_id</th>\n",
       "      <th>chain_id</th>\n",
       "      <th>city_id</th>\n",
       "      <th>spec</th>\n",
       "      <th>successful_orders</th>\n",
       "      <th>fail_orders</th>\n",
       "    </tr>\n",
       "  </thead>\n",
       "  <tbody>\n",
       "    <tr>\n",
       "      <th>0</th>\n",
       "      <td>2019-07-02</td>\n",
       "      <td>40065</td>\n",
       "      <td>7501</td>\n",
       "      <td>23</td>\n",
       "      <td>Суши</td>\n",
       "      <td>54.0</td>\n",
       "      <td>1.0</td>\n",
       "    </tr>\n",
       "    <tr>\n",
       "      <th>1</th>\n",
       "      <td>2019-08-27</td>\n",
       "      <td>48058</td>\n",
       "      <td>33226</td>\n",
       "      <td>23</td>\n",
       "      <td>Шаурма</td>\n",
       "      <td>0.0</td>\n",
       "      <td>0.0</td>\n",
       "    </tr>\n",
       "    <tr>\n",
       "      <th>2</th>\n",
       "      <td>2019-09-25</td>\n",
       "      <td>35430</td>\n",
       "      <td>26220</td>\n",
       "      <td>25</td>\n",
       "      <td>Пицца</td>\n",
       "      <td>2.0</td>\n",
       "      <td>0.0</td>\n",
       "    </tr>\n",
       "    <tr>\n",
       "      <th>3</th>\n",
       "      <td>2019-09-21</td>\n",
       "      <td>56553</td>\n",
       "      <td>38601</td>\n",
       "      <td>23</td>\n",
       "      <td>Шашлыки</td>\n",
       "      <td>1.0</td>\n",
       "      <td>0.0</td>\n",
       "    </tr>\n",
       "    <tr>\n",
       "      <th>4</th>\n",
       "      <td>2019-09-21</td>\n",
       "      <td>43919</td>\n",
       "      <td>30984</td>\n",
       "      <td>25</td>\n",
       "      <td>Суши</td>\n",
       "      <td>6.0</td>\n",
       "      <td>0.0</td>\n",
       "    </tr>\n",
       "    <tr>\n",
       "      <th>5</th>\n",
       "      <td>2019-06-13</td>\n",
       "      <td>53006</td>\n",
       "      <td>36214</td>\n",
       "      <td>26</td>\n",
       "      <td>Грузинская</td>\n",
       "      <td>2.0</td>\n",
       "      <td>0.0</td>\n",
       "    </tr>\n",
       "    <tr>\n",
       "      <th>6</th>\n",
       "      <td>2019-07-07</td>\n",
       "      <td>28982</td>\n",
       "      <td>20651</td>\n",
       "      <td>24</td>\n",
       "      <td>Суши</td>\n",
       "      <td>0.0</td>\n",
       "      <td>1.0</td>\n",
       "    </tr>\n",
       "    <tr>\n",
       "      <th>7</th>\n",
       "      <td>2019-08-01</td>\n",
       "      <td>45472</td>\n",
       "      <td>30409</td>\n",
       "      <td>24</td>\n",
       "      <td>Бургеры</td>\n",
       "      <td>37.0</td>\n",
       "      <td>4.0</td>\n",
       "    </tr>\n",
       "    <tr>\n",
       "      <th>8</th>\n",
       "      <td>2019-07-03</td>\n",
       "      <td>65358</td>\n",
       "      <td>43034</td>\n",
       "      <td>23</td>\n",
       "      <td>Русская</td>\n",
       "      <td>1.0</td>\n",
       "      <td>0.0</td>\n",
       "    </tr>\n",
       "    <tr>\n",
       "      <th>9</th>\n",
       "      <td>2019-09-19</td>\n",
       "      <td>60878</td>\n",
       "      <td>41231</td>\n",
       "      <td>23</td>\n",
       "      <td>Русская</td>\n",
       "      <td>4.0</td>\n",
       "      <td>0.0</td>\n",
       "    </tr>\n",
       "  </tbody>\n",
       "</table>\n",
       "</div>"
      ],
      "text/plain": [
       "         date  vendor_id  chain_id  city_id        spec  successful_orders  \\\n",
       "0  2019-07-02      40065      7501       23        Суши               54.0   \n",
       "1  2019-08-27      48058     33226       23      Шаурма                0.0   \n",
       "2  2019-09-25      35430     26220       25       Пицца                2.0   \n",
       "3  2019-09-21      56553     38601       23     Шашлыки                1.0   \n",
       "4  2019-09-21      43919     30984       25        Суши                6.0   \n",
       "5  2019-06-13      53006     36214       26  Грузинская                2.0   \n",
       "6  2019-07-07      28982     20651       24        Суши                0.0   \n",
       "7  2019-08-01      45472     30409       24     Бургеры               37.0   \n",
       "8  2019-07-03      65358     43034       23     Русская                1.0   \n",
       "9  2019-09-19      60878     41231       23     Русская                4.0   \n",
       "\n",
       "   fail_orders  \n",
       "0          1.0  \n",
       "1          0.0  \n",
       "2          0.0  \n",
       "3          0.0  \n",
       "4          0.0  \n",
       "5          0.0  \n",
       "6          1.0  \n",
       "7          4.0  \n",
       "8          0.0  \n",
       "9          0.0  "
      ]
     },
     "execution_count": 2,
     "metadata": {},
     "output_type": "execute_result"
    }
   ],
   "source": [
    "data.head(10)"
   ]
  },
  {
   "cell_type": "markdown",
   "id": "scientific-holocaust",
   "metadata": {},
   "source": [
    "**Задание 3.** Сколько в датафрейме кколонок  с типом float64?"
   ]
  },
  {
   "cell_type": "code",
   "execution_count": 3,
   "id": "homeless-smooth",
   "metadata": {},
   "outputs": [
    {
     "data": {
      "text/plain": [
       "2"
      ]
     },
     "execution_count": 3,
     "metadata": {},
     "output_type": "execute_result"
    }
   ],
   "source": [
    "data.select_dtypes('float64').shape[1]"
   ]
  },
  {
   "cell_type": "markdown",
   "id": "nervous-merit",
   "metadata": {},
   "source": [
    "**Задание 4.** Чему равно произведение количества наблюдений на количество колонок в датафрейме?"
   ]
  },
  {
   "cell_type": "code",
   "execution_count": 4,
   "id": "wicked-minutes",
   "metadata": {},
   "outputs": [
    {
     "data": {
      "text/plain": [
       "672826"
      ]
     },
     "execution_count": 4,
     "metadata": {},
     "output_type": "execute_result"
    }
   ],
   "source": [
    "data.shape[0]*data.shape[1]"
   ]
  },
  {
   "cell_type": "markdown",
   "id": "hungarian-sapphire",
   "metadata": {},
   "source": [
    "**Задание 5.** Сколько уникальных городов в датафрейме?"
   ]
  },
  {
   "cell_type": "code",
   "execution_count": 5,
   "id": "extreme-navigator",
   "metadata": {},
   "outputs": [
    {
     "data": {
      "text/plain": [
       "4"
      ]
     },
     "execution_count": 5,
     "metadata": {},
     "output_type": "execute_result"
    }
   ],
   "source": [
    "data.city_id.nunique()"
   ]
  },
  {
   "cell_type": "markdown",
   "id": "common-quantity",
   "metadata": {},
   "source": [
    "**Задание 6.** Сколько успешных заказов в среднем получали рестораны в день? (ответ округлить до целого)"
   ]
  },
  {
   "cell_type": "code",
   "execution_count": 6,
   "id": "wrong-possibility",
   "metadata": {},
   "outputs": [
    {
     "data": {
      "text/plain": [
       "9"
      ]
     },
     "execution_count": 6,
     "metadata": {},
     "output_type": "execute_result"
    }
   ],
   "source": [
    "round((np.mean(data.successful_orders)))"
   ]
  },
  {
   "cell_type": "markdown",
   "id": "cleared-plaza",
   "metadata": {},
   "source": [
    "**Задание 7.** Количество ресторанов со специализацией \"Рыба\"?"
   ]
  },
  {
   "cell_type": "code",
   "execution_count": 7,
   "id": "lasting-chick",
   "metadata": {},
   "outputs": [
    {
     "data": {
      "text/plain": [
       "18"
      ]
     },
     "execution_count": 7,
     "metadata": {},
     "output_type": "execute_result"
    }
   ],
   "source": [
    "data[(data.spec == 'Рыба')]['vendor_id'].drop_duplicates().shape[0]"
   ]
  },
  {
   "cell_type": "markdown",
   "id": "atlantic-parent",
   "metadata": {},
   "source": [
    "**Задание 8.** Сколько у ресторана 40065 было дней с количеством успешных заказов менее 20?"
   ]
  },
  {
   "cell_type": "code",
   "execution_count": 8,
   "id": "dramatic-joining",
   "metadata": {},
   "outputs": [
    {
     "data": {
      "text/plain": [
       "45"
      ]
     },
     "execution_count": 8,
     "metadata": {},
     "output_type": "execute_result"
    }
   ],
   "source": [
    "mask = (data.vendor_id == 40065) & (data.successful_orders < 20)\n",
    "data[mask]['successful_orders'].shape[0]"
   ]
  },
  {
   "cell_type": "markdown",
   "id": "conventional-tracker",
   "metadata": {},
   "source": [
    "**Задание 9.** Сколько успешных заказов в среднем получили рестораны за весь период времени? (окгрулить до целого) "
   ]
  },
  {
   "cell_type": "code",
   "execution_count": 9,
   "id": "indie-north",
   "metadata": {},
   "outputs": [
    {
     "data": {
      "text/plain": [
       "555.0"
      ]
     },
     "execution_count": 9,
     "metadata": {},
     "output_type": "execute_result"
    }
   ],
   "source": [
    "np.sum(data.successful_orders) // data['vendor_id'].nunique()"
   ]
  },
  {
   "cell_type": "markdown",
   "id": "committed-tennis",
   "metadata": {},
   "source": [
    "**Задание 10.** Город с самым маленьким количеством успешных заказов за весь период"
   ]
  },
  {
   "cell_type": "code",
   "execution_count": 10,
   "id": "recovered-zambia",
   "metadata": {},
   "outputs": [
    {
     "data": {
      "text/plain": [
       "city_id\n",
       "24    114977.0\n",
       "Name: successful_orders, dtype: float64"
      ]
     },
     "execution_count": 10,
     "metadata": {},
     "output_type": "execute_result"
    }
   ],
   "source": [
    "series = data.groupby(by = 'city_id')['successful_orders'].agg(np.sum)\n",
    "series[series == np.min(series)]"
   ]
  },
  {
   "cell_type": "markdown",
   "id": "dominican-calcium",
   "metadata": {},
   "source": [
    "**Задание 11.** Какая специализация имеет самую высокую долю неуспешных заказов за весь период времени? (все заказы по конкретному ресторану складываются из успешных и неуспешых заказов)"
   ]
  },
  {
   "cell_type": "code",
   "execution_count": 11,
   "id": "burning-contamination",
   "metadata": {},
   "outputs": [
    {
     "data": {
      "text/html": [
       "<div>\n",
       "<style scoped>\n",
       "    .dataframe tbody tr th:only-of-type {\n",
       "        vertical-align: middle;\n",
       "    }\n",
       "\n",
       "    .dataframe tbody tr th {\n",
       "        vertical-align: top;\n",
       "    }\n",
       "\n",
       "    .dataframe thead tr th {\n",
       "        text-align: left;\n",
       "    }\n",
       "\n",
       "    .dataframe thead tr:last-of-type th {\n",
       "        text-align: right;\n",
       "    }\n",
       "</style>\n",
       "<table border=\"1\" class=\"dataframe\">\n",
       "  <thead>\n",
       "    <tr>\n",
       "      <th></th>\n",
       "      <th>successful_orders</th>\n",
       "      <th>fail_orders</th>\n",
       "      <th>proportion</th>\n",
       "    </tr>\n",
       "    <tr>\n",
       "      <th></th>\n",
       "      <th>sum</th>\n",
       "      <th>sum</th>\n",
       "      <th></th>\n",
       "    </tr>\n",
       "    <tr>\n",
       "      <th>spec</th>\n",
       "      <th></th>\n",
       "      <th></th>\n",
       "      <th></th>\n",
       "    </tr>\n",
       "  </thead>\n",
       "  <tbody>\n",
       "    <tr>\n",
       "      <th>Вегетарианское меню</th>\n",
       "      <td>5.0</td>\n",
       "      <td>24.0</td>\n",
       "      <td>0.827586</td>\n",
       "    </tr>\n",
       "  </tbody>\n",
       "</table>\n",
       "</div>"
      ],
      "text/plain": [
       "                    successful_orders fail_orders proportion\n",
       "                                  sum         sum           \n",
       "spec                                                        \n",
       "Вегетарианское меню               5.0        24.0   0.827586"
      ]
     },
     "execution_count": 11,
     "metadata": {},
     "output_type": "execute_result"
    }
   ],
   "source": [
    "frame = data.groupby(by='spec')[['successful_orders', 'fail_orders']].agg([np.sum])\n",
    "frame['proportion'] =  frame['fail_orders'] / (frame['successful_orders'] + frame['fail_orders'])\n",
    "frame[frame.proportion == np.max(frame.proportion)]"
   ]
  },
  {
   "cell_type": "markdown",
   "id": "assured-nomination",
   "metadata": {},
   "source": [
    "**Задача 12.** Какая из сетей (chain_id) показала максимальный абсолютный рост по успешным заказам за август 2019 года по сравнению с июлем 2019 года? Учитывать только те сети, у которых заказы были в июле и в августе"
   ]
  },
  {
   "cell_type": "code",
   "execution_count": 12,
   "id": "emotional-complexity",
   "metadata": {},
   "outputs": [
    {
     "data": {
      "text/plain": [
       "chain_id\n",
       "29925    1394.0\n",
       "Name: successful_orders, dtype: float64"
      ]
     },
     "execution_count": 12,
     "metadata": {},
     "output_type": "execute_result"
    }
   ],
   "source": [
    "july = (data.date >= \"2019-07\") & (data.date < \"2019-08\")\n",
    "august = (data.date >= \"2019-08\") & (data.date < \"2019-09\")\n",
    "\n",
    "data_august = data[august].groupby(by='chain_id')['successful_orders'].agg(np.sum)\n",
    "data_july = data[july].groupby(by='chain_id')['successful_orders'].agg(np.sum)\n",
    "\n",
    "result = np.abs(data_august-data_july)\n",
    "result = result[~np.isnan(result)]\n",
    "result[result == np.max(result)]"
   ]
  }
 ],
 "metadata": {
  "kernelspec": {
   "display_name": "Python 3",
   "language": "python",
   "name": "python3"
  },
  "language_info": {
   "codemirror_mode": {
    "name": "ipython",
    "version": 3
   },
   "file_extension": ".py",
   "mimetype": "text/x-python",
   "name": "python",
   "nbconvert_exporter": "python",
   "pygments_lexer": "ipython3",
   "version": "3.7.10"
  }
 },
 "nbformat": 4,
 "nbformat_minor": 5
}
